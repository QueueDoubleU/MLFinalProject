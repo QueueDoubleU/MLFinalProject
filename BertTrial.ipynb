{
 "cells": [
  {
   "cell_type": "code",
   "execution_count": 2,
   "id": "1feece75",
   "metadata": {
    "scrolled": true
   },
   "outputs": [
    {
     "name": "stdout",
     "output_type": "stream",
     "text": [
      "Collecting torch\n",
      "  Downloading torch-2.0.0-cp39-none-macosx_11_0_arm64.whl (55.8 MB)\n",
      "\u001b[2K     \u001b[90m━━━━━━━━━━━━━━━━━━━━━━━━━━━━━━━━━━━━━━━━\u001b[0m \u001b[32m55.8/55.8 MB\u001b[0m \u001b[31m11.3 MB/s\u001b[0m eta \u001b[36m0:00:00\u001b[0m00:01\u001b[0m00:01\u001b[0m\n",
      "\u001b[?25hCollecting filelock\n",
      "  Downloading filelock-3.12.0-py3-none-any.whl (10 kB)\n",
      "Collecting sympy\n",
      "  Downloading sympy-1.11.1-py3-none-any.whl (6.5 MB)\n",
      "\u001b[2K     \u001b[90m━━━━━━━━━━━━━━━━━━━━━━━━━━━━━━━━━━━━━━━━\u001b[0m \u001b[32m6.5/6.5 MB\u001b[0m \u001b[31m8.6 MB/s\u001b[0m eta \u001b[36m0:00:00\u001b[0ma \u001b[36m0:00:01\u001b[0mm\n",
      "\u001b[?25hRequirement already satisfied: typing-extensions in /Users/quinn/opt/anaconda3/envs/pp275/lib/python3.9/site-packages (from torch) (4.5.0)\n",
      "Requirement already satisfied: networkx in /Users/quinn/opt/anaconda3/envs/pp275/lib/python3.9/site-packages (from torch) (2.8.6)\n",
      "Requirement already satisfied: jinja2 in /Users/quinn/opt/anaconda3/envs/pp275/lib/python3.9/site-packages (from torch) (3.1.2)\n",
      "Requirement already satisfied: MarkupSafe>=2.0 in /Users/quinn/opt/anaconda3/envs/pp275/lib/python3.9/site-packages (from jinja2->torch) (2.1.1)\n",
      "Collecting mpmath>=0.19\n",
      "  Downloading mpmath-1.3.0-py3-none-any.whl (536 kB)\n",
      "\u001b[2K     \u001b[90m━━━━━━━━━━━━━━━━━━━━━━━━━━━━━━━━━━━━━━\u001b[0m \u001b[32m536.2/536.2 kB\u001b[0m \u001b[31m12.2 MB/s\u001b[0m eta \u001b[36m0:00:00\u001b[0m00:01\u001b[0m\n",
      "\u001b[?25hInstalling collected packages: mpmath, sympy, filelock, torch\n",
      "Successfully installed filelock-3.12.0 mpmath-1.3.0 sympy-1.11.1 torch-2.0.0\n"
     ]
    }
   ],
   "source": [
    "!pip install torch"
   ]
  },
  {
   "cell_type": "code",
   "execution_count": 90,
   "id": "7fadb41f",
   "metadata": {},
   "outputs": [
    {
     "name": "stdout",
     "output_type": "stream",
     "text": [
      "Collecting sentencepiece\n",
      "  Downloading sentencepiece-0.1.98-cp39-cp39-macosx_11_0_arm64.whl (1.2 MB)\n",
      "\u001b[2K     \u001b[90m━━━━━━━━━━━━━━━━━━━━━━━━━━━━━━━━━━━━━━━━\u001b[0m \u001b[32m1.2/1.2 MB\u001b[0m \u001b[31m2.7 MB/s\u001b[0m eta \u001b[36m0:00:00\u001b[0ma \u001b[36m0:00:01\u001b[0m\n",
      "\u001b[?25hInstalling collected packages: sentencepiece\n",
      "Successfully installed sentencepiece-0.1.98\n",
      "Note: you may need to restart the kernel to use updated packages.\n"
     ]
    }
   ],
   "source": [
    "pip install sentencepiece"
   ]
  },
  {
   "cell_type": "code",
   "execution_count": 4,
   "id": "b27cb7c9",
   "metadata": {},
   "outputs": [
    {
     "name": "stdout",
     "output_type": "stream",
     "text": [
      "Collecting transformers\n",
      "  Downloading transformers-4.28.1-py3-none-any.whl (7.0 MB)\n",
      "\u001b[2K     \u001b[90m━━━━━━━━━━━━━━━━━━━━━━━━━━━━━━━━━━━━━━━━\u001b[0m \u001b[32m7.0/7.0 MB\u001b[0m \u001b[31m9.8 MB/s\u001b[0m eta \u001b[36m0:00:00\u001b[0m:00:01\u001b[0m00:01\u001b[0m\n",
      "\u001b[?25hRequirement already satisfied: packaging>=20.0 in /Users/quinn/opt/anaconda3/envs/pp275/lib/python3.9/site-packages (from transformers) (21.3)\n",
      "Collecting huggingface-hub<1.0,>=0.11.0\n",
      "  Downloading huggingface_hub-0.14.1-py3-none-any.whl (224 kB)\n",
      "\u001b[2K     \u001b[90m━━━━━━━━━━━━━━━━━━━━━━━━━━━━━━━━━━━━━━\u001b[0m \u001b[32m224.5/224.5 kB\u001b[0m \u001b[31m14.8 MB/s\u001b[0m eta \u001b[36m0:00:00\u001b[0m\n",
      "\u001b[?25hRequirement already satisfied: tqdm>=4.27 in /Users/quinn/opt/anaconda3/envs/pp275/lib/python3.9/site-packages (from transformers) (4.64.0)\n",
      "Requirement already satisfied: filelock in /Users/quinn/opt/anaconda3/envs/pp275/lib/python3.9/site-packages (from transformers) (3.12.0)\n",
      "Collecting tokenizers!=0.11.3,<0.14,>=0.11.1\n",
      "  Downloading tokenizers-0.13.3-cp39-cp39-macosx_12_0_arm64.whl (3.9 MB)\n",
      "\u001b[2K     \u001b[90m━━━━━━━━━━━━━━━━━━━━━━━━━━━━━━━━━━━━━━━━\u001b[0m \u001b[32m3.9/3.9 MB\u001b[0m \u001b[31m10.1 MB/s\u001b[0m eta \u001b[36m0:00:00\u001b[0ma \u001b[36m0:00:01\u001b[0m\n",
      "\u001b[?25hRequirement already satisfied: pyyaml>=5.1 in /Users/quinn/opt/anaconda3/envs/pp275/lib/python3.9/site-packages (from transformers) (6.0)\n",
      "Requirement already satisfied: requests in /Users/quinn/opt/anaconda3/envs/pp275/lib/python3.9/site-packages (from transformers) (2.28.1)\n",
      "Requirement already satisfied: regex!=2019.12.17 in /Users/quinn/opt/anaconda3/envs/pp275/lib/python3.9/site-packages (from transformers) (2023.3.23)\n",
      "Requirement already satisfied: numpy>=1.17 in /Users/quinn/opt/anaconda3/envs/pp275/lib/python3.9/site-packages (from transformers) (1.23.2)\n",
      "Requirement already satisfied: typing-extensions>=3.7.4.3 in /Users/quinn/opt/anaconda3/envs/pp275/lib/python3.9/site-packages (from huggingface-hub<1.0,>=0.11.0->transformers) (4.5.0)\n",
      "Requirement already satisfied: fsspec in /Users/quinn/opt/anaconda3/envs/pp275/lib/python3.9/site-packages (from huggingface-hub<1.0,>=0.11.0->transformers) (2022.8.2)\n",
      "Requirement already satisfied: pyparsing!=3.0.5,>=2.0.2 in /Users/quinn/opt/anaconda3/envs/pp275/lib/python3.9/site-packages (from packaging>=20.0->transformers) (3.0.9)\n",
      "Requirement already satisfied: idna<4,>=2.5 in /Users/quinn/opt/anaconda3/envs/pp275/lib/python3.9/site-packages (from requests->transformers) (3.3)\n",
      "Requirement already satisfied: certifi>=2017.4.17 in /Users/quinn/opt/anaconda3/envs/pp275/lib/python3.9/site-packages (from requests->transformers) (2022.12.7)\n",
      "Requirement already satisfied: charset-normalizer<3,>=2 in /Users/quinn/opt/anaconda3/envs/pp275/lib/python3.9/site-packages (from requests->transformers) (2.1.1)\n",
      "Requirement already satisfied: urllib3<1.27,>=1.21.1 in /Users/quinn/opt/anaconda3/envs/pp275/lib/python3.9/site-packages (from requests->transformers) (1.26.11)\n",
      "Installing collected packages: tokenizers, huggingface-hub, transformers\n",
      "Successfully installed huggingface-hub-0.14.1 tokenizers-0.13.3 transformers-4.28.1\n"
     ]
    }
   ],
   "source": [
    "!pip install transformers"
   ]
  },
  {
   "cell_type": "code",
   "execution_count": 119,
   "id": "3174dfd6",
   "metadata": {},
   "outputs": [],
   "source": [
    "import numpy as np\n",
    "import pandas as pd\n",
    "import torch\n",
    "import torch.nn as nn\n",
    "\n",
    "from sklearn.model_selection import train_test_split\n",
    "from sklearn.metrics import classification_report\n",
    "from sklearn.utils.class_weight import compute_class_weight\n",
    "import transformers\n",
    "from transformers import BigBirdModel, BigBirdTokenizerFast\n",
    "from transformers import AutoModel, BertTokenizerFast\n",
    "from torch.utils.data import TensorDataset, DataLoader, RandomSampler, SequentialSampler"
   ]
  },
  {
   "cell_type": "code",
   "execution_count": 115,
   "id": "9f13e39c",
   "metadata": {},
   "outputs": [],
   "source": [
    "device = torch.device(\"cpu\")"
   ]
  },
  {
   "cell_type": "code",
   "execution_count": 55,
   "id": "8549b11f",
   "metadata": {},
   "outputs": [
    {
     "data": {
      "text/html": [
       "<div>\n",
       "<style scoped>\n",
       "    .dataframe tbody tr th:only-of-type {\n",
       "        vertical-align: middle;\n",
       "    }\n",
       "\n",
       "    .dataframe tbody tr th {\n",
       "        vertical-align: top;\n",
       "    }\n",
       "\n",
       "    .dataframe thead th {\n",
       "        text-align: right;\n",
       "    }\n",
       "</style>\n",
       "<table border=\"1\" class=\"dataframe\">\n",
       "  <thead>\n",
       "    <tr style=\"text-align: right;\">\n",
       "      <th></th>\n",
       "      <th>Unnamed: 0</th>\n",
       "      <th>vectors</th>\n",
       "      <th>case_id</th>\n",
       "      <th>advocates</th>\n",
       "      <th>win_side</th>\n",
       "      <th>votes_side</th>\n",
       "      <th>convo_id</th>\n",
       "      <th>term</th>\n",
       "      <th>docket_id</th>\n",
       "      <th>mq_score</th>\n",
       "    </tr>\n",
       "  </thead>\n",
       "  <tbody>\n",
       "    <tr>\n",
       "      <th>0</th>\n",
       "      <td>0</td>\n",
       "      <td>[]</td>\n",
       "      <td>1955_71</td>\n",
       "      <td>{'harry_f_murphy': {'side': 1, 'role': 'inferr...</td>\n",
       "      <td>0.0</td>\n",
       "      <td>{'j__john_m_harlan2': 0, 'j__hugo_l_black': 0,...</td>\n",
       "      <td>13127</td>\n",
       "      <td>1955</td>\n",
       "      <td>71</td>\n",
       "      <td>0.559</td>\n",
       "    </tr>\n",
       "    <tr>\n",
       "      <th>1</th>\n",
       "      <td>1</td>\n",
       "      <td>[]</td>\n",
       "      <td>1955_410</td>\n",
       "      <td>{'howard_c_westwood': {'side': 1, 'role': 'inf...</td>\n",
       "      <td>1.0</td>\n",
       "      <td>{'j__john_m_harlan2': 1, 'j__hugo_l_black': 1,...</td>\n",
       "      <td>12997</td>\n",
       "      <td>1955</td>\n",
       "      <td>410</td>\n",
       "      <td>0.559</td>\n",
       "    </tr>\n",
       "    <tr>\n",
       "      <th>2</th>\n",
       "      <td>2</td>\n",
       "      <td>[]</td>\n",
       "      <td>1955_410</td>\n",
       "      <td>{'howard_c_westwood': {'side': 1, 'role': 'inf...</td>\n",
       "      <td>1.0</td>\n",
       "      <td>{'j__john_m_harlan2': 1, 'j__hugo_l_black': 1,...</td>\n",
       "      <td>13024</td>\n",
       "      <td>1955</td>\n",
       "      <td>410</td>\n",
       "      <td>0.559</td>\n",
       "    </tr>\n",
       "    <tr>\n",
       "      <th>3</th>\n",
       "      <td>3</td>\n",
       "      <td>[]</td>\n",
       "      <td>1955_351</td>\n",
       "      <td>{'harry_d_graham': {'side': 3, 'role': 'inferr...</td>\n",
       "      <td>1.0</td>\n",
       "      <td>{'j__john_m_harlan2': 1, 'j__hugo_l_black': 1,...</td>\n",
       "      <td>13015</td>\n",
       "      <td>1955</td>\n",
       "      <td>351</td>\n",
       "      <td>0.559</td>\n",
       "    </tr>\n",
       "    <tr>\n",
       "      <th>4</th>\n",
       "      <td>4</td>\n",
       "      <td>[]</td>\n",
       "      <td>1955_38</td>\n",
       "      <td>{'robert_n_gorman': {'side': 3, 'role': 'infer...</td>\n",
       "      <td>0.0</td>\n",
       "      <td>{'j__john_m_harlan2': 0, 'j__hugo_l_black': 0,...</td>\n",
       "      <td>13016</td>\n",
       "      <td>1955</td>\n",
       "      <td>38</td>\n",
       "      <td>0.559</td>\n",
       "    </tr>\n",
       "  </tbody>\n",
       "</table>\n",
       "</div>"
      ],
      "text/plain": [
       "   Unnamed: 0 vectors   case_id  \\\n",
       "0           0      []   1955_71   \n",
       "1           1      []  1955_410   \n",
       "2           2      []  1955_410   \n",
       "3           3      []  1955_351   \n",
       "4           4      []   1955_38   \n",
       "\n",
       "                                           advocates  win_side  \\\n",
       "0  {'harry_f_murphy': {'side': 1, 'role': 'inferr...       0.0   \n",
       "1  {'howard_c_westwood': {'side': 1, 'role': 'inf...       1.0   \n",
       "2  {'howard_c_westwood': {'side': 1, 'role': 'inf...       1.0   \n",
       "3  {'harry_d_graham': {'side': 3, 'role': 'inferr...       1.0   \n",
       "4  {'robert_n_gorman': {'side': 3, 'role': 'infer...       0.0   \n",
       "\n",
       "                                          votes_side  convo_id  term  \\\n",
       "0  {'j__john_m_harlan2': 0, 'j__hugo_l_black': 0,...     13127  1955   \n",
       "1  {'j__john_m_harlan2': 1, 'j__hugo_l_black': 1,...     12997  1955   \n",
       "2  {'j__john_m_harlan2': 1, 'j__hugo_l_black': 1,...     13024  1955   \n",
       "3  {'j__john_m_harlan2': 1, 'j__hugo_l_black': 1,...     13015  1955   \n",
       "4  {'j__john_m_harlan2': 0, 'j__hugo_l_black': 0,...     13016  1955   \n",
       "\n",
       "  docket_id mq_score  \n",
       "0        71    0.559  \n",
       "1       410    0.559  \n",
       "2       410    0.559  \n",
       "3       351    0.559  \n",
       "4        38    0.559  "
      ]
     },
     "execution_count": 55,
     "metadata": {},
     "output_type": "execute_result"
    }
   ],
   "source": [
    "df = pd.read_csv(\"Outcomes_NoTranscript.csv\")\n",
    "df.drop(df[df['win_side'] == -1.0].index, inplace = True)\n",
    "df.drop(df[df['win_side'] == 2.0].index, inplace = True)\n",
    "df.head()"
   ]
  },
  {
   "cell_type": "code",
   "execution_count": 84,
   "id": "d4d1d96c",
   "metadata": {},
   "outputs": [
    {
     "data": {
      "text/plain": [
       "1.0    4930\n",
       "0.0    2868\n",
       "Name: win_side, dtype: int64"
      ]
     },
     "execution_count": 84,
     "metadata": {},
     "output_type": "execute_result"
    }
   ],
   "source": [
    "df['win_side'].value_counts()"
   ]
  },
  {
   "cell_type": "code",
   "execution_count": 56,
   "id": "858421c2",
   "metadata": {},
   "outputs": [],
   "source": [
    "df_test = df.iloc[:10]"
   ]
  },
  {
   "cell_type": "code",
   "execution_count": null,
   "id": "087728d8",
   "metadata": {},
   "outputs": [],
   "source": []
  },
  {
   "cell_type": "code",
   "execution_count": 57,
   "id": "fa84b5a5",
   "metadata": {},
   "outputs": [],
   "source": [
    "df['words'] = np.nan"
   ]
  },
  {
   "cell_type": "code",
   "execution_count": 58,
   "id": "3f46f4a4",
   "metadata": {},
   "outputs": [
    {
     "name": "stderr",
     "output_type": "stream",
     "text": [
      "/var/folders/m4/jl2xh8413dvg0wnf31767gsh0000gn/T/ipykernel_42136/1220184755.py:7: SettingWithCopyWarning: \n",
      "A value is trying to be set on a copy of a slice from a DataFrame.\n",
      "Try using .loc[row_indexer,col_indexer] = value instead\n",
      "\n",
      "See the caveats in the documentation: https://pandas.pydata.org/pandas-docs/stable/user_guide/indexing.html#returning-a-view-versus-a-copy\n",
      "  df_test.at[index, 'words'] = text\n"
     ]
    }
   ],
   "source": [
    "for index, row in df_test.iterrows(): \n",
    "    folder_path = '/Users/quinn/Documents/GradSchool/Spring2023/INFO251/Trancripts_Case_Convo/'\n",
    "    read_path = folder_path+str(row['convo_id'])+'_'+str(row['case_id'])+'.txt'\n",
    "    transcript = open(read_path, 'r')\n",
    "    text = transcript.read()\n",
    "#     print(transcript)\n",
    "    df_test.at[index, 'words'] = text\n",
    "    transcript.close()\n",
    "    "
   ]
  },
  {
   "cell_type": "code",
   "execution_count": 76,
   "id": "325d9605",
   "metadata": {},
   "outputs": [],
   "source": [
    "df_test = df_test.drop(columns=['vectors', 'Unnamed: 0'])"
   ]
  },
  {
   "cell_type": "code",
   "execution_count": 77,
   "id": "32aa10b3",
   "metadata": {},
   "outputs": [
    {
     "data": {
      "text/plain": [
       "case_id       False\n",
       "advocates     False\n",
       "win_side      False\n",
       "votes_side    False\n",
       "convo_id      False\n",
       "term          False\n",
       "docket_id     False\n",
       "mq_score      False\n",
       "words         False\n",
       "dtype: bool"
      ]
     },
     "execution_count": 77,
     "metadata": {},
     "output_type": "execute_result"
    }
   ],
   "source": [
    "df_test.isnull().any()"
   ]
  },
  {
   "cell_type": "code",
   "execution_count": 78,
   "id": "952e2dab",
   "metadata": {},
   "outputs": [
    {
     "data": {
      "text/html": [
       "<div>\n",
       "<style scoped>\n",
       "    .dataframe tbody tr th:only-of-type {\n",
       "        vertical-align: middle;\n",
       "    }\n",
       "\n",
       "    .dataframe tbody tr th {\n",
       "        vertical-align: top;\n",
       "    }\n",
       "\n",
       "    .dataframe thead th {\n",
       "        text-align: right;\n",
       "    }\n",
       "</style>\n",
       "<table border=\"1\" class=\"dataframe\">\n",
       "  <thead>\n",
       "    <tr style=\"text-align: right;\">\n",
       "      <th></th>\n",
       "      <th>case_id</th>\n",
       "      <th>advocates</th>\n",
       "      <th>win_side</th>\n",
       "      <th>votes_side</th>\n",
       "      <th>convo_id</th>\n",
       "      <th>term</th>\n",
       "      <th>docket_id</th>\n",
       "      <th>mq_score</th>\n",
       "      <th>words</th>\n",
       "    </tr>\n",
       "  </thead>\n",
       "  <tbody>\n",
       "    <tr>\n",
       "      <th>0</th>\n",
       "      <td>1955_71</td>\n",
       "      <td>{'harry_f_murphy': {'side': 1, 'role': 'inferr...</td>\n",
       "      <td>0</td>\n",
       "      <td>{'j__john_m_harlan2': 0, 'j__hugo_l_black': 0,...</td>\n",
       "      <td>13127</td>\n",
       "      <td>1955</td>\n",
       "      <td>71</td>\n",
       "      <td>0.559</td>\n",
       "      <td>Number 71, Lonnie Affronti versus United State...</td>\n",
       "    </tr>\n",
       "    <tr>\n",
       "      <th>1</th>\n",
       "      <td>1955_410</td>\n",
       "      <td>{'howard_c_westwood': {'side': 1, 'role': 'inf...</td>\n",
       "      <td>1</td>\n",
       "      <td>{'j__john_m_harlan2': 1, 'j__hugo_l_black': 1,...</td>\n",
       "      <td>12997</td>\n",
       "      <td>1955</td>\n",
       "      <td>410</td>\n",
       "      <td>0.559</td>\n",
       "      <td>Number 410, American Airlines, Incorporated ve...</td>\n",
       "    </tr>\n",
       "    <tr>\n",
       "      <th>2</th>\n",
       "      <td>1955_410</td>\n",
       "      <td>{'howard_c_westwood': {'side': 1, 'role': 'inf...</td>\n",
       "      <td>1</td>\n",
       "      <td>{'j__john_m_harlan2': 1, 'j__hugo_l_black': 1,...</td>\n",
       "      <td>13024</td>\n",
       "      <td>1955</td>\n",
       "      <td>410</td>\n",
       "      <td>0.559</td>\n",
       "      <td>Number 410, American Airlines, Incorporated ve...</td>\n",
       "    </tr>\n",
       "    <tr>\n",
       "      <th>3</th>\n",
       "      <td>1955_351</td>\n",
       "      <td>{'harry_d_graham': {'side': 3, 'role': 'inferr...</td>\n",
       "      <td>1</td>\n",
       "      <td>{'j__john_m_harlan2': 1, 'j__hugo_l_black': 1,...</td>\n",
       "      <td>13015</td>\n",
       "      <td>1955</td>\n",
       "      <td>351</td>\n",
       "      <td>0.559</td>\n",
       "      <td>Number 351, R.V. Archawski et al. versus Basil...</td>\n",
       "    </tr>\n",
       "    <tr>\n",
       "      <th>4</th>\n",
       "      <td>1955_38</td>\n",
       "      <td>{'robert_n_gorman': {'side': 3, 'role': 'infer...</td>\n",
       "      <td>0</td>\n",
       "      <td>{'j__john_m_harlan2': 0, 'j__hugo_l_black': 0,...</td>\n",
       "      <td>13016</td>\n",
       "      <td>1955</td>\n",
       "      <td>38</td>\n",
       "      <td>0.559</td>\n",
       "      <td>Number 38, Raymond C. Armstrong versus Mary R....</td>\n",
       "    </tr>\n",
       "    <tr>\n",
       "      <th>5</th>\n",
       "      <td>1955_38</td>\n",
       "      <td>{'robert_n_gorman': {'side': 3, 'role': 'infer...</td>\n",
       "      <td>0</td>\n",
       "      <td>{'j__john_m_harlan2': 0, 'j__hugo_l_black': 0,...</td>\n",
       "      <td>13043</td>\n",
       "      <td>1955</td>\n",
       "      <td>38</td>\n",
       "      <td>0.559</td>\n",
       "      <td>And the moment of starting for the recess, I w...</td>\n",
       "    </tr>\n",
       "    <tr>\n",
       "      <th>6</th>\n",
       "      <td>1955_49</td>\n",
       "      <td>{'manfred_w_ehrich_jr': {'side': 3, 'role': 'i...</td>\n",
       "      <td>1</td>\n",
       "      <td>{'j__john_m_harlan2': 0, 'j__hugo_l_black': 1,...</td>\n",
       "      <td>13106</td>\n",
       "      <td>1955</td>\n",
       "      <td>49</td>\n",
       "      <td>0.559</td>\n",
       "      <td>-- as a matter of the power -- the law of the ...</td>\n",
       "    </tr>\n",
       "    <tr>\n",
       "      <th>7</th>\n",
       "      <td>1955_49</td>\n",
       "      <td>{'manfred_w_ehrich_jr': {'side': 3, 'role': 'i...</td>\n",
       "      <td>1</td>\n",
       "      <td>{'j__john_m_harlan2': 0, 'j__hugo_l_black': 1,...</td>\n",
       "      <td>13141</td>\n",
       "      <td>1955</td>\n",
       "      <td>49</td>\n",
       "      <td>0.559</td>\n",
       "      <td>Number 49, Norman C.Bernhardt versus Polygraph...</td>\n",
       "    </tr>\n",
       "    <tr>\n",
       "      <th>8</th>\n",
       "      <td>1955_60</td>\n",
       "      <td>{'stanley_m_rosenblum': {'side': 3, 'role': 'i...</td>\n",
       "      <td>0</td>\n",
       "      <td>{'j__john_m_harlan2': 0, 'j__hugo_l_black': 1,...</td>\n",
       "      <td>13143</td>\n",
       "      <td>1955</td>\n",
       "      <td>60</td>\n",
       "      <td>0.559</td>\n",
       "      <td>Mr. Rosenblum, you may proceed.If the Court pl...</td>\n",
       "    </tr>\n",
       "    <tr>\n",
       "      <th>9</th>\n",
       "      <td>1955_92</td>\n",
       "      <td>{'joseph_forer': {'side': 1, 'role': 'inferred...</td>\n",
       "      <td>0</td>\n",
       "      <td>{'j__john_m_harlan2': 0, 'j__hugo_l_black': 1,...</td>\n",
       "      <td>12996</td>\n",
       "      <td>1955</td>\n",
       "      <td>92</td>\n",
       "      <td>0.559</td>\n",
       "      <td>You may proceed Mr. --Thank you, Your Honor.\\n...</td>\n",
       "    </tr>\n",
       "  </tbody>\n",
       "</table>\n",
       "</div>"
      ],
      "text/plain": [
       "    case_id                                          advocates  win_side  \\\n",
       "0   1955_71  {'harry_f_murphy': {'side': 1, 'role': 'inferr...         0   \n",
       "1  1955_410  {'howard_c_westwood': {'side': 1, 'role': 'inf...         1   \n",
       "2  1955_410  {'howard_c_westwood': {'side': 1, 'role': 'inf...         1   \n",
       "3  1955_351  {'harry_d_graham': {'side': 3, 'role': 'inferr...         1   \n",
       "4   1955_38  {'robert_n_gorman': {'side': 3, 'role': 'infer...         0   \n",
       "5   1955_38  {'robert_n_gorman': {'side': 3, 'role': 'infer...         0   \n",
       "6   1955_49  {'manfred_w_ehrich_jr': {'side': 3, 'role': 'i...         1   \n",
       "7   1955_49  {'manfred_w_ehrich_jr': {'side': 3, 'role': 'i...         1   \n",
       "8   1955_60  {'stanley_m_rosenblum': {'side': 3, 'role': 'i...         0   \n",
       "9   1955_92  {'joseph_forer': {'side': 1, 'role': 'inferred...         0   \n",
       "\n",
       "                                          votes_side  convo_id  term  \\\n",
       "0  {'j__john_m_harlan2': 0, 'j__hugo_l_black': 0,...     13127  1955   \n",
       "1  {'j__john_m_harlan2': 1, 'j__hugo_l_black': 1,...     12997  1955   \n",
       "2  {'j__john_m_harlan2': 1, 'j__hugo_l_black': 1,...     13024  1955   \n",
       "3  {'j__john_m_harlan2': 1, 'j__hugo_l_black': 1,...     13015  1955   \n",
       "4  {'j__john_m_harlan2': 0, 'j__hugo_l_black': 0,...     13016  1955   \n",
       "5  {'j__john_m_harlan2': 0, 'j__hugo_l_black': 0,...     13043  1955   \n",
       "6  {'j__john_m_harlan2': 0, 'j__hugo_l_black': 1,...     13106  1955   \n",
       "7  {'j__john_m_harlan2': 0, 'j__hugo_l_black': 1,...     13141  1955   \n",
       "8  {'j__john_m_harlan2': 0, 'j__hugo_l_black': 1,...     13143  1955   \n",
       "9  {'j__john_m_harlan2': 0, 'j__hugo_l_black': 1,...     12996  1955   \n",
       "\n",
       "  docket_id mq_score                                              words  \n",
       "0        71    0.559  Number 71, Lonnie Affronti versus United State...  \n",
       "1       410    0.559  Number 410, American Airlines, Incorporated ve...  \n",
       "2       410    0.559  Number 410, American Airlines, Incorporated ve...  \n",
       "3       351    0.559  Number 351, R.V. Archawski et al. versus Basil...  \n",
       "4        38    0.559  Number 38, Raymond C. Armstrong versus Mary R....  \n",
       "5        38    0.559  And the moment of starting for the recess, I w...  \n",
       "6        49    0.559  -- as a matter of the power -- the law of the ...  \n",
       "7        49    0.559  Number 49, Norman C.Bernhardt versus Polygraph...  \n",
       "8        60    0.559  Mr. Rosenblum, you may proceed.If the Court pl...  \n",
       "9        92    0.559  You may proceed Mr. --Thank you, Your Honor.\\n...  "
      ]
     },
     "execution_count": 78,
     "metadata": {},
     "output_type": "execute_result"
    }
   ],
   "source": [
    "df_test"
   ]
  },
  {
   "cell_type": "code",
   "execution_count": 83,
   "id": "ae272443",
   "metadata": {},
   "outputs": [],
   "source": [
    "# split train dataset into train, validation and test sets\n",
    "train_text, temp_text, train_labels, temp_labels = train_test_split(df_test['words'], \n",
    "                                                                    df_test['win_side'], \n",
    "                                                                    random_state=123, \n",
    "                                                                    test_size=0.3)\n",
    "\n",
    "\n",
    "val_text, test_text, val_labels, test_labels = train_test_split(temp_text, \n",
    "                                                                temp_labels, \n",
    "                                                                random_state=123, \n",
    "                                                                test_size=0.5)"
   ]
  },
  {
   "cell_type": "code",
   "execution_count": 94,
   "id": "6fbaa4bd",
   "metadata": {},
   "outputs": [
    {
     "name": "stderr",
     "output_type": "stream",
     "text": [
      "Some weights of the model checkpoint at google/bigbird-roberta-base were not used when initializing BigBirdModel: ['cls.seq_relationship.bias', 'cls.predictions.transform.dense.weight', 'cls.predictions.transform.LayerNorm.bias', 'cls.predictions.decoder.weight', 'cls.predictions.decoder.bias', 'cls.predictions.bias', 'cls.seq_relationship.weight', 'cls.predictions.transform.LayerNorm.weight', 'cls.predictions.transform.dense.bias']\n",
      "- This IS expected if you are initializing BigBirdModel from the checkpoint of a model trained on another task or with another architecture (e.g. initializing a BertForSequenceClassification model from a BertForPreTraining model).\n",
      "- This IS NOT expected if you are initializing BigBirdModel from the checkpoint of a model that you expect to be exactly identical (initializing a BertForSequenceClassification model from a BertForSequenceClassification model).\n"
     ]
    },
    {
     "data": {
      "application/json": {
       "ascii": false,
       "bar_format": null,
       "colour": null,
       "elapsed": 0.030689001083374023,
       "initial": 0,
       "n": 0,
       "ncols": null,
       "nrows": 24,
       "postfix": null,
       "prefix": "Downloading (…)okenizer_config.json",
       "rate": null,
       "total": 1017,
       "unit": "B",
       "unit_divisor": 1000,
       "unit_scale": true
      },
      "application/vnd.jupyter.widget-view+json": {
       "model_id": "6f4849dabc4443bd852f594a3ad39f40",
       "version_major": 2,
       "version_minor": 0
      },
      "text/plain": [
       "Downloading (…)okenizer_config.json:   0%|          | 0.00/1.02k [00:00<?, ?B/s]"
      ]
     },
     "metadata": {},
     "output_type": "display_data"
    },
    {
     "data": {
      "application/json": {
       "ascii": false,
       "bar_format": null,
       "colour": null,
       "elapsed": 0.02863287925720215,
       "initial": 0,
       "n": 0,
       "ncols": null,
       "nrows": 24,
       "postfix": null,
       "prefix": "Downloading spiece.model",
       "rate": null,
       "total": 845731,
       "unit": "B",
       "unit_divisor": 1000,
       "unit_scale": true
      },
      "application/vnd.jupyter.widget-view+json": {
       "model_id": "c85ba70ea9a84ca7b008de45dbb49ab7",
       "version_major": 2,
       "version_minor": 0
      },
      "text/plain": [
       "Downloading spiece.model:   0%|          | 0.00/846k [00:00<?, ?B/s]"
      ]
     },
     "metadata": {},
     "output_type": "display_data"
    },
    {
     "data": {
      "application/json": {
       "ascii": false,
       "bar_format": null,
       "colour": null,
       "elapsed": 0.03513908386230469,
       "initial": 0,
       "n": 0,
       "ncols": null,
       "nrows": 24,
       "postfix": null,
       "prefix": "Downloading (…)cial_tokens_map.json",
       "rate": null,
       "total": 775,
       "unit": "B",
       "unit_divisor": 1000,
       "unit_scale": true
      },
      "application/vnd.jupyter.widget-view+json": {
       "model_id": "3b71c3f76f2b4c75a30267b402dddf07",
       "version_major": 2,
       "version_minor": 0
      },
      "text/plain": [
       "Downloading (…)cial_tokens_map.json:   0%|          | 0.00/775 [00:00<?, ?B/s]"
      ]
     },
     "metadata": {},
     "output_type": "display_data"
    }
   ],
   "source": [
    "# Load the BigBird model\n",
    "bigbird = BigBirdModel.from_pretrained('google/bigbird-roberta-base')\n",
    "\n",
    "# Load the BigBird tokenizer\n",
    "tokenizer = BigBirdTokenizerFast.from_pretrained('google/bigbird-roberta-base')\n"
   ]
  },
  {
   "cell_type": "code",
   "execution_count": 95,
   "id": "ec5e4f4f",
   "metadata": {},
   "outputs": [
    {
     "data": {
      "text/plain": [
       "<AxesSubplot:>"
      ]
     },
     "execution_count": 95,
     "metadata": {},
     "output_type": "execute_result"
    },
    {
     "data": {
      "image/png": "[encoded data removed]",
      "text/plain": [
       "<Figure size 640x480 with 1 Axes>"
      ]
     },
     "metadata": {},
     "output_type": "display_data"
    }
   ],
   "source": [
    "# get length of all the messages in the train set\n",
    "seq_len = [len(i.split()) for i in train_text]\n",
    "\n",
    "pd.Series(seq_len).hist(bins = 5)"
   ]
  },
  {
   "cell_type": "code",
   "execution_count": 98,
   "id": "a1a0e4dd",
   "metadata": {},
   "outputs": [],
   "source": [
    "# tokenize and encode sequences in the training set\n",
    "tokens_train = tokenizer.batch_encode_plus(\n",
    "    train_text.tolist(),\n",
    "    pad_to_max_length=True,\n",
    "    truncation=True\n",
    ")\n",
    "\n",
    "# tokenize and encode sequences in the validation set\n",
    "tokens_val = tokenizer.batch_encode_plus(\n",
    "    val_text.tolist(),\n",
    "    pad_to_max_length=True,\n",
    "    truncation=True\n",
    ")\n",
    "\n",
    "# tokenize and encode sequences in the test set\n",
    "tokens_test = tokenizer.batch_encode_plus(\n",
    "    test_text.tolist(),\n",
    "    pad_to_max_length=True,\n",
    "    truncation=True\n",
    ")"
   ]
  },
  {
   "cell_type": "code",
   "execution_count": 100,
   "id": "997e0801",
   "metadata": {},
   "outputs": [],
   "source": [
    "## convert lists to tensors\n",
    "\n",
    "train_seq = torch.tensor(tokens_train['input_ids'])\n",
    "train_mask = torch.tensor(tokens_train['attention_mask'])\n",
    "train_y = torch.tensor(train_labels.tolist())\n",
    "\n",
    "val_seq = torch.tensor(tokens_val['input_ids'])\n",
    "val_mask = torch.tensor(tokens_val['attention_mask'])\n",
    "val_y = torch.tensor(val_labels.tolist())\n",
    "\n",
    "test_seq = torch.tensor(tokens_test['input_ids'])\n",
    "test_mask = torch.tensor(tokens_test['attention_mask'])\n",
    "test_y = torch.tensor(test_labels.tolist())"
   ]
  },
  {
   "cell_type": "code",
   "execution_count": 106,
   "id": "4f824c39",
   "metadata": {},
   "outputs": [],
   "source": [
    "#define a batch size\n",
    "batch_size = 32\n",
    "\n",
    "# wrap tensors\n",
    "train_data = TensorDataset(train_seq, train_mask, train_y)\n",
    "\n",
    "# sampler for sampling the data during training\n",
    "train_sampler = RandomSampler(train_data)\n",
    "\n",
    "# dataLoader for train set\n",
    "train_dataloader = DataLoader(train_data, sampler=train_sampler, batch_size=batch_size)\n",
    "\n",
    "# wrap tensors\n",
    "val_data = TensorDataset(val_seq, val_mask, val_y)\n",
    "\n",
    "# sampler for sampling the data during training\n",
    "val_sampler = SequentialSampler(val_data)\n",
    "\n",
    "# dataLoader for validation set\n",
    "val_dataloader = DataLoader(val_data, sampler = val_sampler, batch_size=batch_size)"
   ]
  },
  {
   "cell_type": "code",
   "execution_count": 107,
   "id": "20274c33",
   "metadata": {},
   "outputs": [],
   "source": [
    "# freeze all the parameters\n",
    "for param in bigbird.parameters():\n",
    "    param.requires_grad = False"
   ]
  },
  {
   "cell_type": "code",
   "execution_count": 116,
   "id": "ff828392",
   "metadata": {},
   "outputs": [],
   "source": [
    "class BERT_Arch(nn.Module):\n",
    "\n",
    "    def __init__(self, bigbird):\n",
    "        super(BERT_Arch, self).__init__()\n",
    "        \n",
    "        self.bigbird = bigbird \n",
    "        \n",
    "        # dropout layer\n",
    "        self.dropout = nn.Dropout(0.1)\n",
    "        \n",
    "        # relu activation function\n",
    "        self.relu =  nn.ReLU()\n",
    "\n",
    "        # dense layer 1\n",
    "        self.fc1 = nn.Linear(768,512)\n",
    "        \n",
    "        # dense layer 2 (Output layer)\n",
    "        self.fc2 = nn.Linear(512,2)\n",
    "\n",
    "        #softmax activation function\n",
    "        self.softmax = nn.LogSoftmax(dim=1)\n",
    "\n",
    "    #define the forward pass\n",
    "    def forward(self, sent_id, mask):\n",
    "        \n",
    "        #pass the inputs to the model  \n",
    "        _, cls_hs = self.bigbird(sent_id, attention_mask=mask, return_dict=False)\n",
    "        \n",
    "        x = self.fc1(cls_hs)\n",
    "\n",
    "        x = self.relu(x)\n",
    "\n",
    "        x = self.dropout(x)\n",
    "\n",
    "        # output layer\n",
    "        x = self.fc2(x)\n",
    "        \n",
    "        # apply softmax activation\n",
    "        x = self.softmax(x)\n",
    "\n",
    "        return x"
   ]
  },
  {
   "cell_type": "code",
   "execution_count": 117,
   "id": "3c27efb1",
   "metadata": {},
   "outputs": [],
   "source": [
    "# pass the pre-trained BERT to our define architecture\n",
    "model = BERT_Arch(bigbird)\n",
    "\n",
    "# push the model to GPU\n",
    "model = model.to(device)"
   ]
  },
  {
   "cell_type": "code",
   "execution_count": 118,
   "id": "b1fe983c",
   "metadata": {},
   "outputs": [
    {
     "name": "stderr",
     "output_type": "stream",
     "text": [
      "/Users/quinn/opt/anaconda3/envs/PP275/lib/python3.9/site-packages/transformers/optimization.py:391: FutureWarning: This implementation of AdamW is deprecated and will be removed in a future version. Use the PyTorch implementation torch.optim.AdamW instead, or set `no_deprecation_warning=True` to disable this warning\n",
      "  warnings.warn(\n"
     ]
    }
   ],
   "source": [
    "# optimizer from hugging face transformers\n",
    "from transformers import AdamW\n",
    "\n",
    "# define the optimizer\n",
    "optimizer = AdamW(model.parameters(),lr = 1e-5) "
   ]
  },
  {
   "cell_type": "code",
   "execution_count": 130,
   "id": "ea10d0f4",
   "metadata": {},
   "outputs": [
    {
     "name": "stdout",
     "output_type": "stream",
     "text": [
      "Class Weights: [1.16666667 0.875     ]\n"
     ]
    }
   ],
   "source": [
    "# compute the class weights\n",
    "class_weights = compute_class_weight('balanced', \n",
    "                                     classes=np.unique(train_labels), \n",
    "                                     y=train_labels)\n",
    "\n",
    "print(\"Class Weights:\",class_weights)"
   ]
  },
  {
   "cell_type": "code",
   "execution_count": 131,
   "id": "3191f367",
   "metadata": {},
   "outputs": [],
   "source": [
    "# converting list of class weights to a tensor\n",
    "weights= torch.tensor(class_weights,dtype=torch.float)\n",
    "\n",
    "# push to GPU\n",
    "weights = weights.to(device)\n",
    "\n",
    "# define the loss function\n",
    "cross_entropy  = nn.NLLLoss(weight=weights) \n",
    "\n",
    "# number of training epochs\n",
    "epochs = 10"
   ]
  },
  {
   "cell_type": "code",
   "execution_count": 133,
   "id": "0ee4df86",
   "metadata": {},
   "outputs": [],
   "source": [
    "# function to train the model\n",
    "def train():\n",
    "    \n",
    "    model.train()\n",
    "    total_loss, total_accuracy = 0, 0\n",
    "    \n",
    "    # empty list to save model predictions\n",
    "    total_preds=[]\n",
    "    \n",
    "    # iterate over batches\n",
    "    for step, batch in enumerate(train_dataloader):\n",
    "        \n",
    "        # progress update after every 50 batches.\n",
    "        if step % 50 == 0 and not step == 0:\n",
    "            print('  Batch {:>5,}  of  {:>5,}.'.format(step, len(train_dataloader)))\n",
    "        \n",
    "        # push the batch to gpu\n",
    "        batch = [r.to(device) for r in batch]\n",
    "        \n",
    "        sent_id, mask, labels = batch\n",
    "        \n",
    "        # clear previously calculated gradients \n",
    "        model.zero_grad()        \n",
    "\n",
    "        # get model predictions for the current batch\n",
    "        preds = model(sent_id, mask)\n",
    "\n",
    "        # compute the loss between actual and predicted values\n",
    "        loss = cross_entropy(preds, labels)\n",
    "\n",
    "        # add on to the total loss\n",
    "        total_loss = total_loss + loss.item()\n",
    "\n",
    "        # backward pass to calculate the gradients\n",
    "        loss.backward()\n",
    "\n",
    "        # clip the the gradients to 1.0. It helps in preventing the exploding gradient problem\n",
    "        torch.nn.utils.clip_grad_norm_(model.parameters(), 1.0)\n",
    "\n",
    "        # update parameters\n",
    "        optimizer.step()\n",
    "\n",
    "        # model predictions are stored on GPU. So, push it to CPU\n",
    "        preds=preds.detach().cpu().numpy()\n",
    "\n",
    "    # append the model predictions\n",
    "    total_preds.append(preds)\n",
    "\n",
    "    # compute the training loss of the epoch\n",
    "    avg_loss = total_loss / len(train_dataloader)\n",
    "    \n",
    "    # predictions are in the form of (no. of batches, size of batch, no. of classes).\n",
    "      # reshape the predictions in form of (number of samples, no. of classes)\n",
    "    total_preds  = np.concatenate(total_preds, axis=0)\n",
    "\n",
    "    #returns the loss and predictions\n",
    "    return avg_loss, total_preds"
   ]
  },
  {
   "cell_type": "code",
   "execution_count": 134,
   "id": "ad9d1350",
   "metadata": {},
   "outputs": [],
   "source": [
    "# function for evaluating the model\n",
    "def evaluate():\n",
    "    \n",
    "    print(\"\\nEvaluating...\")\n",
    "    \n",
    "    # deactivate dropout layers\n",
    "    model.eval()\n",
    "\n",
    "    total_loss, total_accuracy = 0, 0\n",
    "    \n",
    "    # empty list to save the model predictions\n",
    "    total_preds = []\n",
    "\n",
    "    # iterate over batches\n",
    "    for step,batch in enumerate(val_dataloader):\n",
    "        \n",
    "        # Progress update every 50 batches.\n",
    "        if step % 50 == 0 and not step == 0:\n",
    "            \n",
    "            # Calculate elapsed time in minutes.\n",
    "            elapsed = format_time(time.time() - t0)\n",
    "            \n",
    "            # Report progress.\n",
    "            print('  Batch {:>5,}  of  {:>5,}.'.format(step, len(val_dataloader)))\n",
    "\n",
    "        # push the batch to gpu\n",
    "        batch = [t.to(device) for t in batch]\n",
    "\n",
    "        sent_id, mask, labels = batch\n",
    "\n",
    "        # deactivate autograd\n",
    "        with torch.no_grad():\n",
    "            \n",
    "            # model predictions\n",
    "            preds = model(sent_id, mask)\n",
    "\n",
    "            # compute the validation loss between actual and predicted values\n",
    "            loss = cross_entropy(preds,labels)\n",
    "\n",
    "            total_loss = total_loss + loss.item()\n",
    "\n",
    "            preds = preds.detach().cpu().numpy()\n",
    "\n",
    "            total_preds.append(preds)\n",
    "\n",
    "    # compute the validation loss of the epoch\n",
    "    avg_loss = total_loss / len(val_dataloader) \n",
    "\n",
    "    # reshape the predictions in form of (number of samples, no. of classes)\n",
    "    total_preds  = np.concatenate(total_preds, axis=0)\n",
    "\n",
    "    return avg_loss, total_preds"
   ]
  },
  {
   "cell_type": "code",
   "execution_count": 135,
   "id": "b4bad79c",
   "metadata": {},
   "outputs": [
    {
     "name": "stdout",
     "output_type": "stream",
     "text": [
      "\n",
      " Epoch 1 / 10\n",
      "\n",
      "Evaluating...\n",
      "\n",
      "Training Loss: 0.688\n",
      "Validation Loss: 0.958\n",
      "\n",
      " Epoch 2 / 10\n",
      "\n",
      "Evaluating...\n",
      "\n",
      "Training Loss: 0.707\n",
      "Validation Loss: 0.928\n",
      "\n",
      " Epoch 3 / 10\n",
      "\n",
      "Evaluating...\n",
      "\n",
      "Training Loss: 0.775\n",
      "Validation Loss: 0.899\n",
      "\n",
      " Epoch 4 / 10\n",
      "\n",
      "Evaluating...\n",
      "\n",
      "Training Loss: 0.709\n",
      "Validation Loss: 0.873\n",
      "\n",
      " Epoch 5 / 10\n",
      "\n",
      "Evaluating...\n",
      "\n",
      "Training Loss: 0.687\n",
      "Validation Loss: 0.848\n",
      "\n",
      " Epoch 6 / 10\n",
      "\n",
      "Evaluating...\n",
      "\n",
      "Training Loss: 0.699\n",
      "Validation Loss: 0.823\n",
      "\n",
      " Epoch 7 / 10\n",
      "\n",
      "Evaluating...\n",
      "\n",
      "Training Loss: 0.697\n",
      "Validation Loss: 0.801\n",
      "\n",
      " Epoch 8 / 10\n",
      "\n",
      "Evaluating...\n",
      "\n",
      "Training Loss: 0.686\n",
      "Validation Loss: 0.781\n",
      "\n",
      " Epoch 9 / 10\n",
      "\n",
      "Evaluating...\n",
      "\n",
      "Training Loss: 0.662\n",
      "Validation Loss: 0.763\n",
      "\n",
      " Epoch 10 / 10\n",
      "\n",
      "Evaluating...\n",
      "\n",
      "Training Loss: 0.690\n",
      "Validation Loss: 0.745\n"
     ]
    }
   ],
   "source": [
    "# set initial loss to infinite\n",
    "best_valid_loss = float('inf')\n",
    "\n",
    "# empty lists to store training and validation loss of each epoch\n",
    "train_losses=[]\n",
    "valid_losses=[]\n",
    "\n",
    "#for each epoch\n",
    "for epoch in range(epochs):\n",
    "     \n",
    "    print('\\n Epoch {:} / {:}'.format(epoch + 1, epochs))\n",
    "    \n",
    "    #train model\n",
    "    train_loss, _ = train()\n",
    "    \n",
    "    #evaluate model\n",
    "    valid_loss, _ = evaluate()\n",
    "    \n",
    "    #save the best model\n",
    "    if valid_loss < best_valid_loss:\n",
    "        best_valid_loss = valid_loss\n",
    "        torch.save(model.state_dict(), 'saved_weights.pt')\n",
    "    \n",
    "    # append training and validation loss\n",
    "    train_losses.append(train_loss)\n",
    "    valid_losses.append(valid_loss)\n",
    "    \n",
    "    print(f'\\nTraining Loss: {train_loss:.3f}')\n",
    "    print(f'Validation Loss: {valid_loss:.3f}')"
   ]
  },
  {
   "cell_type": "code",
   "execution_count": 136,
   "id": "dbd6df5c",
   "metadata": {},
   "outputs": [
    {
     "data": {
      "text/plain": [
       "<All keys matched successfully>"
      ]
     },
     "execution_count": 136,
     "metadata": {},
     "output_type": "execute_result"
    }
   ],
   "source": [
    "#load weights of best model\n",
    "path = 'saved_weights.pt'\n",
    "model.load_state_dict(torch.load(path))"
   ]
  },
  {
   "cell_type": "code",
   "execution_count": 137,
   "id": "56a8654d",
   "metadata": {},
   "outputs": [],
   "source": [
    "# get predictions for test data\n",
    "with torch.no_grad():\n",
    "    preds = model(test_seq.to(device), test_mask.to(device))\n",
    "    preds = preds.detach().cpu().numpy()"
   ]
  },
  {
   "cell_type": "code",
   "execution_count": 138,
   "id": "3fc45e5b",
   "metadata": {},
   "outputs": [
    {
     "name": "stdout",
     "output_type": "stream",
     "text": [
      "              precision    recall  f1-score   support\n",
      "\n",
      "           0       1.00      1.00      1.00         2\n",
      "\n",
      "    accuracy                           1.00         2\n",
      "   macro avg       1.00      1.00      1.00         2\n",
      "weighted avg       1.00      1.00      1.00         2\n",
      "\n"
     ]
    }
   ],
   "source": [
    "# model's performance\n",
    "preds = np.argmax(preds, axis = 1)\n",
    "print(classification_report(test_y, preds))"
   ]
  },
  {
   "cell_type": "code",
   "execution_count": 142,
   "id": "21bf77dc",
   "metadata": {},
   "outputs": [
    {
     "data": {
      "text/plain": [
       "array([0, 0])"
      ]
     },
     "execution_count": 142,
     "metadata": {},
     "output_type": "execute_result"
    }
   ],
   "source": [
    "preds"
   ]
  },
  {
   "cell_type": "code",
   "execution_count": null,
   "id": "4ee1b85e",
   "metadata": {},
   "outputs": [],
   "source": []
  }
 ],
 "metadata": {
  "kernelspec": {
   "display_name": "pp275",
   "language": "python",
   "name": "pp275"
  },
  "language_info": {
   "codemirror_mode": {
    "name": "ipython",
    "version": 3
   },
   "file_extension": ".py",
   "mimetype": "text/x-python",
   "name": "python",
   "nbconvert_exporter": "python",
   "pygments_lexer": "ipython3",
   "version": "3.9.13"
  }
 },
 "nbformat": 4,
 "nbformat_minor": 5
}
