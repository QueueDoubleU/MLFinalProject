{
  "nbformat": 4,
  "nbformat_minor": 0,
  "metadata": {
    "colab": {
      "provenance": [],
      "include_colab_link": true
    },
    "kernelspec": {
      "name": "python3",
      "display_name": "Python 3"
    },
    "language_info": {
      "name": "python"
    }
  },
  "cells": [
    {
      "cell_type": "markdown",
      "metadata": {
        "id": "view-in-github",
        "colab_type": "text"
      },
      "source": [
        "<a href=\"https://colab.research.google.com/github/QueueDoubleU/MLFinalProject/blob/main/SimpleModels.ipynb\" target=\"_parent\"><img src=\"https://colab.research.google.com/assets/colab-badge.svg\" alt=\"Open In Colab\"/></a>"
      ]
    },
    {
      "cell_type": "code",
      "execution_count": null,
      "metadata": {
        "id": "MA6EYsTawzbt"
      },
      "outputs": [],
      "source": [
        "import numpy as np\n",
        "import pandas as pd\n",
        "import matplotlib.pyplot as plt\n",
        "import seaborn as sns\n",
        "import collections\n",
        "\n",
        "from sklearn.model_selection import train_test_split, KFold, GridSearchCV\n",
        "from sklearn.linear_model import LinearRegression, Lasso, LassoCV, LogisticRegression\n",
        "from sklearn.tree import DecisionTreeClassifier, DecisionTreeRegressor\n",
        "from sklearn.ensemble import RandomForestClassifier, RandomForestRegressor\n",
        "from sklearn.metrics import accuracy_score, precision_score, recall_score, roc_auc_score, roc_curve, r2_score\n",
        "\n",
        "\n",
        "from sklearn.preprocessing import OneHotEncoder\n",
        "from sklearn.compose import ColumnTransformer"
      ]
    },
    {
      "cell_type": "code",
      "source": [
        "from google.colab import drive\n",
        "drive.mount('/content/drive')"
      ],
      "metadata": {
        "colab": {
          "base_uri": "https://localhost:8080/"
        },
        "id": "SurjgF57w-TU",
        "outputId": "a958576f-b563-447c-ddb7-3cf333c1f09d"
      },
      "execution_count": null,
      "outputs": [
        {
          "output_type": "stream",
          "name": "stdout",
          "text": [
            "Mounted at /content/drive\n"
          ]
        }
      ]
    },
    {
      "cell_type": "code",
      "source": [
        "# load martin quinn scores\n",
        "martin_quinn = pd.read_csv('/content/drive/MyDrive/INFO251Final/MartinQuinnScores.csv')"
      ],
      "metadata": {
        "id": "Szl5wwU6w_wK"
      },
      "execution_count": null,
      "outputs": []
    },
    {
      "cell_type": "code",
      "source": [
        "# create dataframe of cases without transcripts (Cornell convokit)\n",
        "df_cases = pd.read_csv('/content/drive/MyDrive/INFO251Final/Outcomes_NoTranscript.csv')\n",
        "#clean unique instance\n",
        "df_cases['mq_score'] = df_cases['mq_score'].str.replace('0.162.5', '0.162')\n",
        "\n",
        "#drop cases with -1 as win_side\n",
        "df_cases = df_cases[df_cases['win_side']!=-1]"
      ],
      "metadata": {
        "colab": {
          "base_uri": "https://localhost:8080/"
        },
        "id": "6vXDFOVaxDsl",
        "outputId": "5a581814-1f76-440e-ea40-8c0c10a88784"
      },
      "execution_count": null,
      "outputs": [
        {
          "output_type": "stream",
          "name": "stderr",
          "text": [
            "<ipython-input-4-243a8a7bd43c>:4: FutureWarning: The default value of regex will change from True to False in a future version.\n",
            "  df_cases['mq_score'] = df_cases['mq_score'].str.replace('0.162.5', '0.162')\n"
          ]
        }
      ]
    },
    {
      "cell_type": "code",
      "source": [
        "df_cases['mq_score'].unique()"
      ],
      "metadata": {
        "colab": {
          "base_uri": "https://localhost:8080/"
        },
        "id": "Qs7fagHVxJCF",
        "outputId": "4ef358bf-cbf3-4ea7-fba3-a5ed40362cca"
      },
      "execution_count": null,
      "outputs": [
        {
          "output_type": "execute_result",
          "data": {
            "text/plain": [
              "array(['0.559', '0.162', '0.58', '0.643', '0.335', '0.443', '-0.041',\n",
              "       '-1.079', '-1.133', '-0.707', '-0.56', '-0.414', '-1.043',\n",
              "       '-0.896', '0.19', '0.381', '0.64', '0.945', '0.609', '0.615',\n",
              "       '0.492', '0.473', '0.233', '0.156', '0.24', '0.231', '0.266',\n",
              "       '0.673', '0.877', '0.828', '0.932', '0.878', '0.972', '1.098',\n",
              "       '0.876', '0.919', '0.756', '0.838', '0.817', '0.736', '0.685',\n",
              "       '0.782', '0.798', '0.861', '0.849', '0.589', '0.371', '0.26',\n",
              "       '0.222', '0.11', '0.2705', '0.458', '0.411', '0.576', '0.516',\n",
              "       '0.577', '0.296', '0.068', '-0.227', '-0.269', '-0.059', '0.298',\n",
              "       '0.402', '0.355'], dtype=object)"
            ]
          },
          "metadata": {},
          "execution_count": 5
        }
      ]
    },
    {
      "cell_type": "code",
      "source": [
        "# error with Wash U data file so we need to find file encoding and add when reading\n",
        "# commented out because now that it is disocvered, no need to re-run each time\n",
        "\n",
        "#!pip install chardet\n",
        "\n",
        "#import chardet    \n",
        "#rawdata = open('/content/drive/MyDrive/INFO251Final/WashU_onerowpercaseid.csv', 'rb').read()\n",
        "#result = chardet.detect(rawdata)\n",
        "#charenc = result['encoding']\n",
        "#print(charenc)"
      ],
      "metadata": {
        "id": "pHxCuMUVyyxk"
      },
      "execution_count": null,
      "outputs": []
    },
    {
      "cell_type": "code",
      "source": [
        "# create dataframe from Washington University data\n",
        "df_wash = pd.read_csv('/content/drive/MyDrive/INFO251Final/WashU_onerowpercaseid.csv', encoding='Windows-1252')"
      ],
      "metadata": {
        "id": "6PmyBmLZxFym"
      },
      "execution_count": null,
      "outputs": []
    },
    {
      "cell_type": "code",
      "source": [
        "df_wash.head()"
      ],
      "metadata": {
        "colab": {
          "base_uri": "https://localhost:8080/",
          "height": 473
        },
        "id": "oipsMYaQxJal",
        "outputId": "f64351cf-754a-4063-eede-cea417e3b08a"
      },
      "execution_count": null,
      "outputs": [
        {
          "output_type": "execute_result",
          "data": {
            "text/plain": [
              "     caseId     docketId    caseIssuesId             voteId dateDecision  \\\n",
              "0  1946-001  1946-001-01  1946-001-01-01  1946-001-01-01-01   11/18/1946   \n",
              "1  1946-002  1946-002-01  1946-002-01-01  1946-002-01-01-01   11/18/1946   \n",
              "2  1946-003  1946-003-01  1946-003-01-01  1946-003-01-01-01   11/18/1946   \n",
              "3  1946-004  1946-004-01  1946-004-01-01  1946-004-01-01-01   11/25/1946   \n",
              "4  1946-005  1946-005-01  1946-005-01-01  1946-005-01-01-01   11/25/1946   \n",
              "\n",
              "   decisionType       usCite        sctCite       ledCite  \\\n",
              "0             1   329 U.S. 1    67 S. Ct. 6   91 L. Ed. 3   \n",
              "1             1  329 U.S. 14   67 S. Ct. 13  91 L. Ed. 12   \n",
              "2             1  329 U.S. 29    67 S. Ct. 1  91 L. Ed. 22   \n",
              "3             7  329 U.S. 40  67 S. Ct. 167  91 L. Ed. 29   \n",
              "4             1  329 U.S. 64  67 S. Ct. 154  91 L. Ed. 44   \n",
              "\n",
              "              lexisCite  ...  authorityDecision1  authorityDecision2 lawType  \\\n",
              "0  1946 U.S. LEXIS 1724  ...                 4.0                 NaN     6.0   \n",
              "1  1946 U.S. LEXIS 1725  ...                 4.0                 NaN     6.0   \n",
              "2  1946 U.S. LEXIS 3037  ...                 1.0                 NaN     2.0   \n",
              "3  1946 U.S. LEXIS 1696  ...                 4.0                 NaN     6.0   \n",
              "4  1946 U.S. LEXIS 2997  ...                 7.0                 NaN     NaN   \n",
              "\n",
              "  lawSupp         lawMinor majOpinWriter majOpinAssigner  splitVote  majVotes  \\\n",
              "0   600.0   35 U.S.C. § 33          78.0            78.0          1         8   \n",
              "1   600.0  18 U.S.C. § 398          81.0            87.0          1         6   \n",
              "2   207.0              NaN          84.0            78.0          1         5   \n",
              "3   600.0     49 Stat. 801          87.0            87.0          1         5   \n",
              "4     NaN              NaN          78.0            87.0          1         6   \n",
              "\n",
              "   minVotes  \n",
              "0         1  \n",
              "1         3  \n",
              "2         4  \n",
              "3         3  \n",
              "4         3  \n",
              "\n",
              "[5 rows x 53 columns]"
            ],
            "text/html": [
              "\n",
              "  <div id=\"df-e4ac6850-f24d-46ba-a1d0-e8fa220a37f3\">\n",
              "    <div class=\"colab-df-container\">\n",
              "      <div>\n",
              "<style scoped>\n",
              "    .dataframe tbody tr th:only-of-type {\n",
              "        vertical-align: middle;\n",
              "    }\n",
              "\n",
              "    .dataframe tbody tr th {\n",
              "        vertical-align: top;\n",
              "    }\n",
              "\n",
              "    .dataframe thead th {\n",
              "        text-align: right;\n",
              "    }\n",
              "</style>\n",
              "<table border=\"1\" class=\"dataframe\">\n",
              "  <thead>\n",
              "    <tr style=\"text-align: right;\">\n",
              "      <th></th>\n",
              "      <th>caseId</th>\n",
              "      <th>docketId</th>\n",
              "      <th>caseIssuesId</th>\n",
              "      <th>voteId</th>\n",
              "      <th>dateDecision</th>\n",
              "      <th>decisionType</th>\n",
              "      <th>usCite</th>\n",
              "      <th>sctCite</th>\n",
              "      <th>ledCite</th>\n",
              "      <th>lexisCite</th>\n",
              "      <th>...</th>\n",
              "      <th>authorityDecision1</th>\n",
              "      <th>authorityDecision2</th>\n",
              "      <th>lawType</th>\n",
              "      <th>lawSupp</th>\n",
              "      <th>lawMinor</th>\n",
              "      <th>majOpinWriter</th>\n",
              "      <th>majOpinAssigner</th>\n",
              "      <th>splitVote</th>\n",
              "      <th>majVotes</th>\n",
              "      <th>minVotes</th>\n",
              "    </tr>\n",
              "  </thead>\n",
              "  <tbody>\n",
              "    <tr>\n",
              "      <th>0</th>\n",
              "      <td>1946-001</td>\n",
              "      <td>1946-001-01</td>\n",
              "      <td>1946-001-01-01</td>\n",
              "      <td>1946-001-01-01-01</td>\n",
              "      <td>11/18/1946</td>\n",
              "      <td>1</td>\n",
              "      <td>329 U.S. 1</td>\n",
              "      <td>67 S. Ct. 6</td>\n",
              "      <td>91 L. Ed. 3</td>\n",
              "      <td>1946 U.S. LEXIS 1724</td>\n",
              "      <td>...</td>\n",
              "      <td>4.0</td>\n",
              "      <td>NaN</td>\n",
              "      <td>6.0</td>\n",
              "      <td>600.0</td>\n",
              "      <td>35 U.S.C. § 33</td>\n",
              "      <td>78.0</td>\n",
              "      <td>78.0</td>\n",
              "      <td>1</td>\n",
              "      <td>8</td>\n",
              "      <td>1</td>\n",
              "    </tr>\n",
              "    <tr>\n",
              "      <th>1</th>\n",
              "      <td>1946-002</td>\n",
              "      <td>1946-002-01</td>\n",
              "      <td>1946-002-01-01</td>\n",
              "      <td>1946-002-01-01-01</td>\n",
              "      <td>11/18/1946</td>\n",
              "      <td>1</td>\n",
              "      <td>329 U.S. 14</td>\n",
              "      <td>67 S. Ct. 13</td>\n",
              "      <td>91 L. Ed. 12</td>\n",
              "      <td>1946 U.S. LEXIS 1725</td>\n",
              "      <td>...</td>\n",
              "      <td>4.0</td>\n",
              "      <td>NaN</td>\n",
              "      <td>6.0</td>\n",
              "      <td>600.0</td>\n",
              "      <td>18 U.S.C. § 398</td>\n",
              "      <td>81.0</td>\n",
              "      <td>87.0</td>\n",
              "      <td>1</td>\n",
              "      <td>6</td>\n",
              "      <td>3</td>\n",
              "    </tr>\n",
              "    <tr>\n",
              "      <th>2</th>\n",
              "      <td>1946-003</td>\n",
              "      <td>1946-003-01</td>\n",
              "      <td>1946-003-01-01</td>\n",
              "      <td>1946-003-01-01-01</td>\n",
              "      <td>11/18/1946</td>\n",
              "      <td>1</td>\n",
              "      <td>329 U.S. 29</td>\n",
              "      <td>67 S. Ct. 1</td>\n",
              "      <td>91 L. Ed. 22</td>\n",
              "      <td>1946 U.S. LEXIS 3037</td>\n",
              "      <td>...</td>\n",
              "      <td>1.0</td>\n",
              "      <td>NaN</td>\n",
              "      <td>2.0</td>\n",
              "      <td>207.0</td>\n",
              "      <td>NaN</td>\n",
              "      <td>84.0</td>\n",
              "      <td>78.0</td>\n",
              "      <td>1</td>\n",
              "      <td>5</td>\n",
              "      <td>4</td>\n",
              "    </tr>\n",
              "    <tr>\n",
              "      <th>3</th>\n",
              "      <td>1946-004</td>\n",
              "      <td>1946-004-01</td>\n",
              "      <td>1946-004-01-01</td>\n",
              "      <td>1946-004-01-01-01</td>\n",
              "      <td>11/25/1946</td>\n",
              "      <td>7</td>\n",
              "      <td>329 U.S. 40</td>\n",
              "      <td>67 S. Ct. 167</td>\n",
              "      <td>91 L. Ed. 29</td>\n",
              "      <td>1946 U.S. LEXIS 1696</td>\n",
              "      <td>...</td>\n",
              "      <td>4.0</td>\n",
              "      <td>NaN</td>\n",
              "      <td>6.0</td>\n",
              "      <td>600.0</td>\n",
              "      <td>49 Stat. 801</td>\n",
              "      <td>87.0</td>\n",
              "      <td>87.0</td>\n",
              "      <td>1</td>\n",
              "      <td>5</td>\n",
              "      <td>3</td>\n",
              "    </tr>\n",
              "    <tr>\n",
              "      <th>4</th>\n",
              "      <td>1946-005</td>\n",
              "      <td>1946-005-01</td>\n",
              "      <td>1946-005-01-01</td>\n",
              "      <td>1946-005-01-01-01</td>\n",
              "      <td>11/25/1946</td>\n",
              "      <td>1</td>\n",
              "      <td>329 U.S. 64</td>\n",
              "      <td>67 S. Ct. 154</td>\n",
              "      <td>91 L. Ed. 44</td>\n",
              "      <td>1946 U.S. LEXIS 2997</td>\n",
              "      <td>...</td>\n",
              "      <td>7.0</td>\n",
              "      <td>NaN</td>\n",
              "      <td>NaN</td>\n",
              "      <td>NaN</td>\n",
              "      <td>NaN</td>\n",
              "      <td>78.0</td>\n",
              "      <td>87.0</td>\n",
              "      <td>1</td>\n",
              "      <td>6</td>\n",
              "      <td>3</td>\n",
              "    </tr>\n",
              "  </tbody>\n",
              "</table>\n",
              "<p>5 rows × 53 columns</p>\n",
              "</div>\n",
              "      <button class=\"colab-df-convert\" onclick=\"convertToInteractive('df-e4ac6850-f24d-46ba-a1d0-e8fa220a37f3')\"\n",
              "              title=\"Convert this dataframe to an interactive table.\"\n",
              "              style=\"display:none;\">\n",
              "        \n",
              "  <svg xmlns=\"http://www.w3.org/2000/svg\" height=\"24px\"viewBox=\"0 0 24 24\"\n",
              "       width=\"24px\">\n",
              "    <path d=\"M0 0h24v24H0V0z\" fill=\"none\"/>\n",
              "    <path d=\"M18.56 5.44l.94 2.06.94-2.06 2.06-.94-2.06-.94-.94-2.06-.94 2.06-2.06.94zm-11 1L8.5 8.5l.94-2.06 2.06-.94-2.06-.94L8.5 2.5l-.94 2.06-2.06.94zm10 10l.94 2.06.94-2.06 2.06-.94-2.06-.94-.94-2.06-.94 2.06-2.06.94z\"/><path d=\"M17.41 7.96l-1.37-1.37c-.4-.4-.92-.59-1.43-.59-.52 0-1.04.2-1.43.59L10.3 9.45l-7.72 7.72c-.78.78-.78 2.05 0 2.83L4 21.41c.39.39.9.59 1.41.59.51 0 1.02-.2 1.41-.59l7.78-7.78 2.81-2.81c.8-.78.8-2.07 0-2.86zM5.41 20L4 18.59l7.72-7.72 1.47 1.35L5.41 20z\"/>\n",
              "  </svg>\n",
              "      </button>\n",
              "      \n",
              "  <style>\n",
              "    .colab-df-container {\n",
              "      display:flex;\n",
              "      flex-wrap:wrap;\n",
              "      gap: 12px;\n",
              "    }\n",
              "\n",
              "    .colab-df-convert {\n",
              "      background-color: #E8F0FE;\n",
              "      border: none;\n",
              "      border-radius: 50%;\n",
              "      cursor: pointer;\n",
              "      display: none;\n",
              "      fill: #1967D2;\n",
              "      height: 32px;\n",
              "      padding: 0 0 0 0;\n",
              "      width: 32px;\n",
              "    }\n",
              "\n",
              "    .colab-df-convert:hover {\n",
              "      background-color: #E2EBFA;\n",
              "      box-shadow: 0px 1px 2px rgba(60, 64, 67, 0.3), 0px 1px 3px 1px rgba(60, 64, 67, 0.15);\n",
              "      fill: #174EA6;\n",
              "    }\n",
              "\n",
              "    [theme=dark] .colab-df-convert {\n",
              "      background-color: #3B4455;\n",
              "      fill: #D2E3FC;\n",
              "    }\n",
              "\n",
              "    [theme=dark] .colab-df-convert:hover {\n",
              "      background-color: #434B5C;\n",
              "      box-shadow: 0px 1px 3px 1px rgba(0, 0, 0, 0.15);\n",
              "      filter: drop-shadow(0px 1px 2px rgba(0, 0, 0, 0.3));\n",
              "      fill: #FFFFFF;\n",
              "    }\n",
              "  </style>\n",
              "\n",
              "      <script>\n",
              "        const buttonEl =\n",
              "          document.querySelector('#df-e4ac6850-f24d-46ba-a1d0-e8fa220a37f3 button.colab-df-convert');\n",
              "        buttonEl.style.display =\n",
              "          google.colab.kernel.accessAllowed ? 'block' : 'none';\n",
              "\n",
              "        async function convertToInteractive(key) {\n",
              "          const element = document.querySelector('#df-e4ac6850-f24d-46ba-a1d0-e8fa220a37f3');\n",
              "          const dataTable =\n",
              "            await google.colab.kernel.invokeFunction('convertToInteractive',\n",
              "                                                     [key], {});\n",
              "          if (!dataTable) return;\n",
              "\n",
              "          const docLinkHtml = 'Like what you see? Visit the ' +\n",
              "            '<a target=\"_blank\" href=https://colab.research.google.com/notebooks/data_table.ipynb>data table notebook</a>'\n",
              "            + ' to learn more about interactive tables.';\n",
              "          element.innerHTML = '';\n",
              "          dataTable['output_type'] = 'display_data';\n",
              "          await google.colab.output.renderOutput(dataTable, element);\n",
              "          const docLink = document.createElement('div');\n",
              "          docLink.innerHTML = docLinkHtml;\n",
              "          element.appendChild(docLink);\n",
              "        }\n",
              "      </script>\n",
              "    </div>\n",
              "  </div>\n",
              "  "
            ]
          },
          "metadata": {},
          "execution_count": 8
        }
      ]
    },
    {
      "cell_type": "code",
      "source": [
        "#Transform some data to words instead of numerical values?\n",
        "\n",
        "# Column: Issue Area\n",
        "# issue area is listed as numerical value but they correspond to different categories\n",
        "# create dictionary of column integers and corresponding meanings\n",
        "data_issueArea = ({'Integer Value':[1,2,3,4,5,6,7,8,9,10,11,12,13,14],\n",
        "                'Issue Area':['Criminal Procedure', 'Civil Rights', 'First Amendment', 'Due Process',\n",
        "                                      'Privacy', 'Attorneys', 'Unions', 'Economic Activity', 'Judicial Power',\n",
        "                                      'Federalism', 'Interstate Relations', 'Federal Taxation', 'Miscellaneous',\n",
        "                                      'Private Action']})\n",
        "# turn into dataframe\n",
        "df_issueArea = pd.DataFrame(data_issueArea)\n",
        "# replace the values in Wash U with the words\n",
        "df_issueArea.set_index('Integer Value', inplace=True)\n",
        "df_wash['issueArea'] = df_wash['issueArea'].map(df_issueArea['Issue Area'])\n",
        "df_issueArea.reset_index(inplace=True)\n",
        "print(df_wash['issueArea'])\n",
        "\n",
        "\n",
        "\n",
        "\n",
        "\n",
        "\n",
        "# Column: lcDispositionDirection\n",
        "# lower court disposition direction is listed as numerical value but they correspond to different categories\n",
        "# create dictionary of column integers and corresponding meanings\n",
        "data_lcdd = ({'Integer Value':[1,2,3],\n",
        "                'direction':['conservative', 'liberal', 'unspecifiable']})\n",
        "\n",
        "# turn into dataframe\n",
        "df_lcdd = pd.DataFrame(data_lcdd)\n",
        "# replace the values in Wash U with the words\n",
        "df_lcdd.set_index('Integer Value', inplace=True)\n",
        "df_wash['lcDispositionDirection'] = df_wash['lcDispositionDirection'].map(df_lcdd['direction'])\n",
        "df_lcdd.reset_index(inplace=True)\n",
        "print(df_wash['lcDispositionDirection'])\n"
      ],
      "metadata": {
        "colab": {
          "base_uri": "https://localhost:8080/"
        },
        "id": "JYJBDlQ9xJyu",
        "outputId": "45d85e95-23b2-4e8f-ecb1-d100852950ff"
      },
      "execution_count": null,
      "outputs": [
        {
          "output_type": "stream",
          "name": "stdout",
          "text": [
            "0        Economic Activity\n",
            "1       Criminal Procedure\n",
            "2        Economic Activity\n",
            "3             Civil Rights\n",
            "4        Economic Activity\n",
            "               ...        \n",
            "9155     Economic Activity\n",
            "9156    Criminal Procedure\n",
            "9157    Criminal Procedure\n",
            "9158        Judicial Power\n",
            "9159          Civil Rights\n",
            "Name: issueArea, Length: 9160, dtype: object\n",
            "0       conservative\n",
            "1       conservative\n",
            "2            liberal\n",
            "3            liberal\n",
            "4            liberal\n",
            "            ...     \n",
            "9155    conservative\n",
            "9156         liberal\n",
            "9157         liberal\n",
            "9158    conservative\n",
            "9159    conservative\n",
            "Name: lcDispositionDirection, Length: 9160, dtype: object\n"
          ]
        }
      ]
    },
    {
      "cell_type": "code",
      "source": [
        "df_wash.columns"
      ],
      "metadata": {
        "colab": {
          "base_uri": "https://localhost:8080/"
        },
        "id": "8yAhIT8p8TfX",
        "outputId": "1e257f59-03ff-4b76-c7ab-b691c146db53"
      },
      "execution_count": null,
      "outputs": [
        {
          "output_type": "execute_result",
          "data": {
            "text/plain": [
              "Index(['caseId', 'docketId', 'caseIssuesId', 'voteId', 'dateDecision',\n",
              "       'decisionType', 'usCite', 'sctCite', 'ledCite', 'lexisCite', 'term',\n",
              "       'naturalCourt', 'chief', 'docket', 'caseName', 'dateArgument',\n",
              "       'dateRearg', 'petitioner', 'petitionerState', 'respondent',\n",
              "       'respondentState', 'jurisdiction', 'adminAction', 'adminActionState',\n",
              "       'threeJudgeFdc', 'caseOrigin', 'caseOriginState', 'caseSource',\n",
              "       'caseSourceState', 'lcDisagreement', 'certReason', 'lcDisposition',\n",
              "       'lcDispositionDirection', 'declarationUncon', 'caseDisposition',\n",
              "       'caseDispositionUnusual', 'partyWinning', 'precedentAlteration',\n",
              "       'voteUnclear', 'issue', 'issueArea', 'decisionDirection',\n",
              "       'decisionDirectionDissent', 'authorityDecision1', 'authorityDecision2',\n",
              "       'lawType', 'lawSupp', 'lawMinor', 'majOpinWriter', 'majOpinAssigner',\n",
              "       'splitVote', 'majVotes', 'minVotes'],\n",
              "      dtype='object')"
            ]
          },
          "metadata": {},
          "execution_count": 10
        }
      ]
    },
    {
      "cell_type": "code",
      "source": [
        "#get only important columns\n",
        "df_wash_important = df_wash[['caseId', 'issueArea', 'lcDispositionDirection']]\n",
        "\n",
        "#change case column so it matches df_case\n",
        "df_wash_important = df_wash_important.rename(columns={'caseId':'case_id'})\n",
        "df_wash_important['case_id'] = df_wash_important['case_id'].str.replace('-', '_')\n",
        "\n",
        "df_wash_important.shape"
      ],
      "metadata": {
        "colab": {
          "base_uri": "https://localhost:8080/"
        },
        "id": "quXbxvN87e8F",
        "outputId": "cc8fb6bc-cab6-4b18-f008-8692e251f869"
      },
      "execution_count": null,
      "outputs": [
        {
          "output_type": "execute_result",
          "data": {
            "text/plain": [
              "(9160, 3)"
            ]
          },
          "metadata": {},
          "execution_count": 11
        }
      ]
    },
    {
      "cell_type": "code",
      "source": [
        "#for df_cases, split the case_id column into two parts at the underscore, and add '0' if necessary\n",
        "df_cases['case_id'] = df_cases['case_id'].apply(lambda x: '{}_{}'.format(x.split('_')[0], x.split('_')[1].zfill(3)))\n",
        "\n",
        "#strip down any docket id info from case_id as well\n",
        "df_cases['case_id'] = df_cases['case_id'].str[:8]\n",
        "\n",
        "df_cases['case_id'].nunique()"
      ],
      "metadata": {
        "colab": {
          "base_uri": "https://localhost:8080/"
        },
        "id": "9k2d_NdpCS-X",
        "outputId": "41e39a05-8dd3-43ee-d5ce-f5f289d23f03"
      },
      "execution_count": null,
      "outputs": [
        {
          "output_type": "execute_result",
          "data": {
            "text/plain": [
              "1969"
            ]
          },
          "metadata": {},
          "execution_count": 12
        }
      ]
    },
    {
      "cell_type": "code",
      "source": [
        "#merge washington data with original cornell data\n",
        "df_merged = pd.merge(df_cases, df_wash_important, on='case_id')\n",
        "\n",
        "#drop where there weren't matches\n",
        "df_merged = df_merged.dropna(subset=['win_side'])\n",
        "\n",
        "print(df_merged.head())"
      ],
      "metadata": {
        "colab": {
          "base_uri": "https://localhost:8080/"
        },
        "id": "RS_cW9Gt9RnY",
        "outputId": "907dab28-f40f-4e20-f507-57fd20b95eeb"
      },
      "execution_count": null,
      "outputs": [
        {
          "output_type": "stream",
          "name": "stdout",
          "text": [
            "   Unnamed: 0 vectors   case_id  \\\n",
            "0           0      []  1955_071   \n",
            "1           4      []  1955_038   \n",
            "2           5      []  1955_038   \n",
            "3           6      []  1955_049   \n",
            "4           7      []  1955_049   \n",
            "\n",
            "                                           advocates  win_side  \\\n",
            "0  {'harry_f_murphy': {'side': 1, 'role': 'inferr...       0.0   \n",
            "1  {'robert_n_gorman': {'side': 3, 'role': 'infer...       0.0   \n",
            "2  {'robert_n_gorman': {'side': 3, 'role': 'infer...       0.0   \n",
            "3  {'manfred_w_ehrich_jr': {'side': 3, 'role': 'i...       1.0   \n",
            "4  {'manfred_w_ehrich_jr': {'side': 3, 'role': 'i...       1.0   \n",
            "\n",
            "                                          votes_side  convo_id  term  \\\n",
            "0  {'j__john_m_harlan2': 0, 'j__hugo_l_black': 0,...     13127  1955   \n",
            "1  {'j__john_m_harlan2': 0, 'j__hugo_l_black': 0,...     13016  1955   \n",
            "2  {'j__john_m_harlan2': 0, 'j__hugo_l_black': 0,...     13043  1955   \n",
            "3  {'j__john_m_harlan2': 0, 'j__hugo_l_black': 1,...     13106  1955   \n",
            "4  {'j__john_m_harlan2': 0, 'j__hugo_l_black': 1,...     13141  1955   \n",
            "\n",
            "  docket_id mq_score          issueArea lcDispositionDirection  \n",
            "0        71    0.559  Economic Activity                liberal  \n",
            "1        38    0.559  Economic Activity           conservative  \n",
            "2        38    0.559  Economic Activity           conservative  \n",
            "3        49    0.559    First Amendment                liberal  \n",
            "4        49    0.559    First Amendment                liberal  \n"
          ]
        }
      ]
    },
    {
      "cell_type": "code",
      "source": [
        "df_merged.shape"
      ],
      "metadata": {
        "colab": {
          "base_uri": "https://localhost:8080/"
        },
        "id": "Vb7L1kzt-5Vv",
        "outputId": "2b01fe25-77dc-4669-d525-ab5e64096648"
      },
      "execution_count": null,
      "outputs": [
        {
          "output_type": "execute_result",
          "data": {
            "text/plain": [
              "(1582, 12)"
            ]
          },
          "metadata": {},
          "execution_count": 14
        }
      ]
    },
    {
      "cell_type": "code",
      "source": [
        "df_merged.to_csv('/content/drive/MyDrive/INFO251Final/merged_data.csv')"
      ],
      "metadata": {
        "id": "RkIFz7PF5zw7"
      },
      "execution_count": null,
      "outputs": []
    },
    {
      "cell_type": "markdown",
      "source": [
        "Now that the file is created annd saved, we will begin using it for our models."
      ],
      "metadata": {
        "id": "V8AuFF3ys298"
      }
    },
    {
      "cell_type": "code",
      "source": [
        "#check dataframe and make sure it is only columns we want to use: Issue Area, Lower Court Disposition Direction, Martin Quinn Score and Win Side\n",
        "my_data = pd.read_csv('/content/drive/MyDrive/INFO251Final/merged_data.csv')\n",
        "\n",
        "#get only important columns\n",
        "#dropping case_id because that shouldn't be relevant in prediction\n",
        "my_data = my_data[['win_side', 'mq_score', 'issueArea', 'lcDispositionDirection']]"
      ],
      "metadata": {
        "id": "kA3e-KNZxU8g"
      },
      "execution_count": null,
      "outputs": []
    },
    {
      "cell_type": "code",
      "source": [
        "#deal with categorical data by one hot encoding\n",
        "\n",
        "x = my_data.drop('win_side', axis=1)\n",
        "y = my_data['win_side']\n",
        "\n",
        "# define which columns contain categorical data\n",
        "categorical_cols = ['issueArea', 'lcDispositionDirection']\n",
        "\n",
        "# create a transformer to one-hot encode the categorical columns\n",
        "ct = ColumnTransformer([('one_hot_encoder', OneHotEncoder(), categorical_cols)], remainder='passthrough')\n",
        "\n",
        "# transform the categorical columns to numerical format\n",
        "my_x_encoded = ct.fit_transform(x)"
      ],
      "metadata": {
        "id": "YyRVU1IcI9e3"
      },
      "execution_count": null,
      "outputs": []
    },
    {
      "cell_type": "code",
      "source": [
        "# Split data into training and test\n",
        "x_train, x_test, y_train, y_test = train_test_split(my_x_encoded, y, shuffle=True, test_size=0.25, random_state=0)\n",
        "#x_train, y_train = train.drop('win_side', axis=1), train['win_side']\n",
        "#x_test, y_test = test.drop('win_side', axis=1), test['win_side']"
      ],
      "metadata": {
        "id": "WmKGz6rGxamX"
      },
      "execution_count": null,
      "outputs": []
    },
    {
      "cell_type": "markdown",
      "source": [
        "## Logistic Regression"
      ],
      "metadata": {
        "id": "9bXMb4yKcGGC"
      }
    },
    {
      "cell_type": "code",
      "source": [
        "#for our first logistic regression, we keep our penalization as the default which is L2 (ridge regularization, euclidean distance)\n",
        "\n",
        "logreg = LogisticRegression(random_state=1).fit(x_train, y_train)\n",
        "\n",
        "print('Prediction accuracy on the training set: %.3f' % logreg.score(x_train, y_train))\n",
        "print('Prediction accuracy on the test set: %.3f' % logreg.score(x_test, y_test))\n",
        "\n",
        "y_pred = logreg.predict(x_test)\n",
        "collections.Counter(y_pred)"
      ],
      "metadata": {
        "colab": {
          "base_uri": "https://localhost:8080/"
        },
        "id": "1fPlS3KbfmzC",
        "outputId": "965bb242-28f4-4eec-e7fa-0f7d29d92e55"
      },
      "execution_count": null,
      "outputs": [
        {
          "output_type": "stream",
          "name": "stdout",
          "text": [
            "Prediction accuracy on the training set: 0.663\n",
            "Prediction accuracy on the test set: 0.601\n"
          ]
        },
        {
          "output_type": "execute_result",
          "data": {
            "text/plain": [
              "Counter({1.0: 386, 0.0: 10})"
            ]
          },
          "metadata": {},
          "execution_count": 8
        }
      ]
    },
    {
      "cell_type": "markdown",
      "source": [
        "While our training set is achieveing 66.3% accuracy, our test set is at 60.1% accurate. \n",
        "This is better than randomly guessing but we would like to see if we can improve it. Additionally, we see that predictions are heavily skewed towards predicting 1. "
      ],
      "metadata": {
        "id": "8ZdxtyB0iazt"
      }
    },
    {
      "cell_type": "code",
      "source": [
        "#for our next logistic regression, we use L1 penalty (Lasso) to see if we can improve accuracy\n",
        "#to do this, we also had to switch our solve to liblinear\n",
        "\n",
        "logreg = LogisticRegression(random_state=1, penalty='l1', solver='liblinear').fit(x_train, y_train)\n",
        "\n",
        "print('Prediction accuracy on the training set: %.3f' % logreg.score(x_train, y_train))\n",
        "print('Prediction accuracy on the test set: %.3f' % logreg.score(x_test, y_test))\n",
        "\n",
        "y_pred = logreg.predict(x_test)\n",
        "collections.Counter(y_pred)"
      ],
      "metadata": {
        "colab": {
          "base_uri": "https://localhost:8080/"
        },
        "id": "xuEcwY18b_hC",
        "outputId": "dd563748-d2de-410e-9f17-ad84519d8ede"
      },
      "execution_count": null,
      "outputs": [
        {
          "output_type": "stream",
          "name": "stdout",
          "text": [
            "Prediction accuracy on the training set: 0.661\n",
            "Prediction accuracy on the test set: 0.604\n"
          ]
        },
        {
          "output_type": "execute_result",
          "data": {
            "text/plain": [
              "Counter({1.0: 385, 0.0: 11})"
            ]
          },
          "metadata": {},
          "execution_count": 9
        }
      ]
    },
    {
      "cell_type": "markdown",
      "source": [
        "There seems to be little difference between the L1 and L2 regularization in this case. This is what we would expect since we have already manually chosen which features would be influential based on intuition so there are not excess variables to get rid of and change results.\n",
        "\n",
        "With more time, we may have explored additional features as well but these were mainly built as simple models before putting most effort into the neural networks later."
      ],
      "metadata": {
        "id": "NYulikZmivcP"
      }
    },
    {
      "cell_type": "markdown",
      "source": [
        "## Decision Tree"
      ],
      "metadata": {
        "id": "FP41LGsWxQM5"
      }
    },
    {
      "cell_type": "code",
      "source": [
        "# Get dummy variables and drop one column\n",
        "dummy_x = pd.get_dummies(x, columns=['issueArea', 'lcDispositionDirection'], drop_first=True) # Drop a column"
      ],
      "metadata": {
        "id": "_hxA17Sa2PNw"
      },
      "execution_count": null,
      "outputs": []
    },
    {
      "cell_type": "code",
      "source": [
        "# Split data into training and test\n",
        "x_train, x_test, y_train, y_test = train_test_split(dummy_x, y, shuffle=True, test_size=0.25, random_state=0)\n",
        "#x_train, y_train = train.drop('win_side', axis=1), train['win_side']\n",
        "#x_test, y_test = test.drop('win_side', axis=1), test['win_side']"
      ],
      "metadata": {
        "id": "DtLw54sl4JPr"
      },
      "execution_count": null,
      "outputs": []
    },
    {
      "cell_type": "code",
      "source": [
        "print(dummy_x.shape)\n",
        "print(y.shape)"
      ],
      "metadata": {
        "colab": {
          "base_uri": "https://localhost:8080/"
        },
        "id": "S1XHe-sZ33Wy",
        "outputId": "58d6ac2b-cf73-4b42-f1e2-486ef049a1a2"
      },
      "execution_count": null,
      "outputs": [
        {
          "output_type": "stream",
          "name": "stdout",
          "text": [
            "(1582, 14)\n",
            "(1582,)\n"
          ]
        }
      ]
    },
    {
      "cell_type": "code",
      "source": [
        "# Fit model without tuning hyperparameters on held out test set\n",
        "from sklearn.metrics import accuracy_score, precision_score, recall_score, roc_auc_score, roc_curve, r2_score\n",
        "\n",
        "model = DecisionTreeClassifier()\n",
        "model.fit(x_train, y_train)\n",
        "yhat_train = model.predict(x_train)\n",
        "yhat_test = model.predict(x_test)\n",
        "\n",
        "print('Accuracy of training data with no CV: %.2f' % accuracy_score(y_train, yhat_train))\n",
        "print('Accuracy of test data with no CV: %.2f' % accuracy_score(y_test, yhat_test))\n",
        "collections.Counter(yhat_test)"
      ],
      "metadata": {
        "colab": {
          "base_uri": "https://localhost:8080/"
        },
        "id": "eZVQELx73Fho",
        "outputId": "e091430b-4cd7-41ed-c8ba-5f9c178f15ef"
      },
      "execution_count": null,
      "outputs": [
        {
          "output_type": "stream",
          "name": "stdout",
          "text": [
            "Accuracy of training data with no CV: 0.75\n",
            "Accuracy of test data with no CV: 0.63\n"
          ]
        },
        {
          "output_type": "execute_result",
          "data": {
            "text/plain": [
              "Counter({1.0: 282, 0.0: 114})"
            ]
          },
          "metadata": {},
          "execution_count": 21
        }
      ]
    },
    {
      "cell_type": "markdown",
      "source": [
        "We see an improvement here over logistic regression. Even though we are achieving the same 63% accuracy as the \"always guess petitioner\" baseline, our prediction shows that we are givig a distribution of both 1 and 0. This shows that there is some complexity behind our strategy rather than defaulting to 1.  \n",
        "\n",
        "\n",
        "Since our training data seems to be higher than our test data, it suggests that we may be overfitting. We will build a random forest and then tune hyperparamters."
      ],
      "metadata": {
        "id": "aRPmEDOTuRsD"
      }
    },
    {
      "cell_type": "code",
      "source": [
        "#Diagram of the tree\n",
        "from sklearn import tree\n",
        "\n",
        "plt.figure(figsize=(15,6))\n",
        "my_tree = tree.plot_tree(model, feature_names=x_train.columns, filled=True, max_depth=2)"
      ],
      "metadata": {
        "colab": {
          "base_uri": "https://localhost:8080/",
          "height": 382
        },
        "id": "SJS8-ChPuLy6",
        "outputId": "f87759ac-5bf8-46c8-bf68-6f078d61e7e4"
      },
      "execution_count": null,
      "outputs": [
        {
          "output_type": "display_data",
          "data": {
            "text/plain": [
              "<Figure size 1500x600 with 1 Axes>"
            ],
            "image/png": "[encoded data removed]"
          },
          "metadata": {}
        }
      ]
    },
    {
      "cell_type": "markdown",
      "source": [
        "## Random Forest"
      ],
      "metadata": {
        "id": "c52tc7UKwNKZ"
      }
    },
    {
      "cell_type": "code",
      "source": [
        "#Now, random forest with dummy\n",
        "# Fit model without tuning hyperparameters\n",
        "model = RandomForestClassifier(n_estimators=100, random_state=2)\n",
        "model.fit(x_train, y_train)\n",
        "yhat_train = model.predict(x_train)\n",
        "yhat_test = model.predict(x_test)\n",
        "\n",
        "print('Accuracy (train): %.2f' % accuracy_score(y_train, yhat_train))\n",
        "print('Accuracy (test): %.2f' % accuracy_score(y_test, yhat_test))\n",
        "print(collections.Counter(yhat_test))\n",
        "\n",
        "print('Precision (train): %.2f' % recall_score(y_train, yhat_train))\n",
        "print('Precision (test): %.2f' % recall_score(y_test, yhat_test))\n",
        "\n",
        "print('Recall (train): %.2f' % precision_score(y_train, yhat_train))\n",
        "print('Recall (test): %.2f' % precision_score(y_test, yhat_test))"
      ],
      "metadata": {
        "colab": {
          "base_uri": "https://localhost:8080/"
        },
        "id": "6I7JthTD5CMm",
        "outputId": "641303a6-21e5-44db-d36d-f2693aabefe7"
      },
      "execution_count": null,
      "outputs": [
        {
          "output_type": "stream",
          "name": "stdout",
          "text": [
            "Accuracy (train): 0.75\n",
            "Accuracy (test): 0.64\n",
            "Counter({1.0: 299, 0.0: 97})\n",
            "Precision (train): 0.89\n",
            "Precision (test): 0.83\n",
            "Recall (train): 0.76\n",
            "Recall (test): 0.67\n"
          ]
        }
      ]
    },
    {
      "cell_type": "markdown",
      "source": [
        "Moving from decision tree to random forest, we see a very slight improvement on test accuracy (increase by 0.01). We will now tune hyperparameters."
      ],
      "metadata": {
        "id": "ruzwTSMmv402"
      }
    },
    {
      "cell_type": "code",
      "source": [
        "# Get feature importances\n",
        "importances = model.feature_importances_\n",
        "std = np.std([tree.feature_importances_ for tree in model.estimators_], axis=0)\n",
        "importances = pd.DataFrame([x_train.columns, importances]).T\n",
        "importances.columns = ['Feature', 'Importance']\n",
        "importances = importances.sort_values('Importance', ascending=True)\n",
        "\n",
        "# Bar chart\n",
        "fig, ax = plt.subplots(1, figsize=(5, 5))\n",
        "plt.barh(importances['Feature'], importances['Importance'], yerr=std)\n",
        "ax.set_xlabel('Mean Decrease in Impurity')\n",
        "ax.set_title('Feature Importances in Random Forest')\n",
        "plt.show()"
      ],
      "metadata": {
        "colab": {
          "base_uri": "https://localhost:8080/",
          "height": 487
        },
        "id": "WlfUUFwfpyes",
        "outputId": "9434e9c1-2d2c-43a0-995c-6387c5a2b064"
      },
      "execution_count": null,
      "outputs": [
        {
          "output_type": "display_data",
          "data": {
            "text/plain": [
              "<Figure size 500x500 with 1 Axes>"
            ],
            "image/png": "[encoded data removed]"
          },
          "metadata": {}
        }
      ]
    },
    {
      "cell_type": "markdown",
      "source": [
        "## Tuning Random Forest"
      ],
      "metadata": {
        "id": "6Q5xm5jDwQAM"
      }
    },
    {
      "cell_type": "code",
      "source": [
        "# Tune hyperparameters: max_depth, n_estimators\n",
        "model = RandomForestClassifier(random_state=1)\n",
        "cv = KFold(n_splits=3, shuffle=True, random_state=1)\n",
        "params = {'max_depth':[2, 4, 6, 8], 'n_estimators':[25, 50, 100, 200, 1000]}\n",
        "#params = {'max_depth':[100, 200, 300], 'n_estimators':[25, 50, 100, 200, 1000]}\n",
        "cv_model = GridSearchCV(model, param_grid=params, scoring='accuracy', refit=True, return_train_score=True, cv=cv)\n",
        "cv_model.fit(x_train, y_train)\n",
        "model = cv_model.best_estimator_\n",
        "model.fit(x_train, y_train)\n",
        "yhat_train = model.predict(x_train)\n",
        "yhat_test = model.predict(x_test)\n",
        "\n",
        "print('Best maximum depth: %i' % cv_model.best_params_['max_depth'])\n",
        "print('Best number of estimators: %i' % cv_model.best_params_['n_estimators'])\n",
        "\n",
        "print('Accuracy (train): %.2f' % accuracy_score(y_train, yhat_train))\n",
        "print('Accuracy (test): %.2f' % accuracy_score(y_test, yhat_test))\n",
        "print(collections.Counter(yhat_test))\n",
        "\n",
        "print('Precision (train): %.2f' % recall_score(y_train, yhat_train))\n",
        "print('Precision (test): %.2f' % recall_score(y_test, yhat_test))\n",
        "\n",
        "print('Recall (train): %.2f' % precision_score(y_train, yhat_train))\n",
        "print('Recall (test): %.2f' % precision_score(y_test, yhat_test))"
      ],
      "metadata": {
        "colab": {
          "base_uri": "https://localhost:8080/"
        },
        "id": "5scqJlHmxiPU",
        "outputId": "2f3aa6c5-44d3-400b-e340-f33279733e45"
      },
      "execution_count": null,
      "outputs": [
        {
          "output_type": "stream",
          "name": "stdout",
          "text": [
            "Best maximum depth: 6\n",
            "Best number of estimators: 25\n",
            "Accuracy (train): 0.69\n",
            "Accuracy (test): 0.62\n",
            "Counter({1.0: 373, 0.0: 23})\n",
            "Precision (train): 0.97\n",
            "Precision (test): 0.97\n",
            "Recall (train): 0.69\n",
            "Recall (test): 0.62\n"
          ]
        }
      ]
    },
    {
      "cell_type": "markdown",
      "source": [
        "When tuning hyperparameters, we ended up getting lower accuracy for both train and test accuracy. \n",
        "\n",
        "Also, takng a look at our predictions, we see the model has learned to predict 1 (the petitioner wins) much more often. This suggests that with less depth for branched decision making, it is defaulting to this simplification more often. "
      ],
      "metadata": {
        "id": "zJzMp2Kowlns"
      }
    },
    {
      "cell_type": "code",
      "source": [
        "# ROC Curve\n",
        "yhat_test_proba = model.predict_proba(x_test)[:, 1]\n",
        "fprs, tprs, thresholds = roc_curve(y_test, yhat_test_proba)\n",
        "\n",
        "fig, ax = plt.subplots(1, figsize=(10, 5))\n",
        "ax.scatter(fprs, tprs)\n",
        "ax.plot(fprs, tprs)\n",
        "ax.plot([0, 1], [0, 1], color='grey', dashes=[2, 2])\n",
        "ax.set_xlabel('False Positive Rate')\n",
        "ax.set_ylabel('True Positive Rate (Recall)')\n",
        "ax.set_title('ROC Curve (Test Data)')\n",
        "plt.show()"
      ],
      "metadata": {
        "colab": {
          "base_uri": "https://localhost:8080/",
          "height": 487
        },
        "id": "E3yTpyqlxoB2",
        "outputId": "ef6b71cf-5365-46a3-f6a9-1b1d7c8662e0"
      },
      "execution_count": null,
      "outputs": [
        {
          "output_type": "display_data",
          "data": {
            "text/plain": [
              "<Figure size 1000x500 with 1 Axes>"
            ],
            "image/png": "[encoded data removed]"
          },
          "metadata": {}
        }
      ]
    },
    {
      "cell_type": "code",
      "source": [
        "# Get area under the curve\n",
        "print('AUC score: %.2f' % roc_auc_score(y_test, yhat_test_proba))"
      ],
      "metadata": {
        "colab": {
          "base_uri": "https://localhost:8080/"
        },
        "id": "3brHrSbmxqTX",
        "outputId": "bfaf1418-f519-4da3-99d6-6a8dbd3c6a6e"
      },
      "execution_count": null,
      "outputs": [
        {
          "output_type": "stream",
          "name": "stdout",
          "text": [
            "AUC score: 0.63\n"
          ]
        }
      ]
    },
    {
      "cell_type": "code",
      "source": [
        "# Get \"optimal\" threshold: the one closest to the top-left corner of the ROC graph\n",
        "distances_from_top_left = [np.sqrt(tprs[i]**2 + (1-fprs[i])**2) for i in range(len(tprs))]\n",
        "best_cutoff = np.argmin(distances_from_top_left)\n",
        "print('Threshold closest to top-left corner of graph: %.2f (%.2f TPR, %.2f FPR)' % \n",
        "      (thresholds[best_cutoff], tprs[best_cutoff], fprs[best_cutoff]))"
      ],
      "metadata": {
        "colab": {
          "base_uri": "https://localhost:8080/"
        },
        "id": "0Fd-E8xFxq4n",
        "outputId": "96054ed9-f371-4ba6-feff-63089bef64b7"
      },
      "execution_count": null,
      "outputs": [
        {
          "output_type": "stream",
          "name": "stdout",
          "text": [
            "Threshold closest to top-left corner of graph: 0.67 (0.47 TPR, 0.34 FPR)\n"
          ]
        }
      ]
    },
    {
      "cell_type": "markdown",
      "source": [
        "We will also run AdaBoost to see how results may vary."
      ],
      "metadata": {
        "id": "PUdSdDW2w8di"
      }
    },
    {
      "cell_type": "code",
      "source": [
        "from sklearn.ensemble import AdaBoostClassifier, GradientBoostingClassifier\n",
        "from lightgbm import LGBMClassifier"
      ],
      "metadata": {
        "id": "zH7xs9mwxw3U"
      },
      "execution_count": null,
      "outputs": []
    },
    {
      "cell_type": "code",
      "source": [
        "# Tune hyperparameters: n_estimators\n",
        "model = AdaBoostClassifier(random_state=0)\n",
        "cv = KFold(n_splits=3, shuffle=True, random_state=1)\n",
        "params = {'n_estimators':[1, 5, 10, 25, 50, 100, 200, 500]}\n",
        "cv_model = GridSearchCV(model, param_grid=params, scoring='accuracy', refit=True, return_train_score=True, cv=cv)\n",
        "cv_model.fit(x_train, y_train)\n",
        "model = cv_model.best_estimator_\n",
        "model.fit(x_train, y_train)\n",
        "yhat_train = model.predict(x_train)\n",
        "yhat_test = model.predict(x_test)\n",
        "\n",
        "print('Best number of estimators: %i' % cv_model.best_params_['n_estimators'])\n",
        "\n",
        "print('Accuracy (train): %.2f' % accuracy_score(y_train, yhat_train))\n",
        "print('Accuracy (test): %.2f' % accuracy_score(y_test, yhat_test))\n",
        "\n",
        "print('Precision (train): %.2f' % recall_score(y_train, yhat_train))\n",
        "print('Precision (test): %.2f' % recall_score(y_test, yhat_test))\n",
        "\n",
        "print('Recall (train): %.2f' % precision_score(y_train, yhat_train))\n",
        "print('Recall (test): %.2f' % precision_score(y_test, yhat_test))"
      ],
      "metadata": {
        "colab": {
          "base_uri": "https://localhost:8080/"
        },
        "id": "sPqvWHH5xxPd",
        "outputId": "9970198e-8a62-4262-8b4a-1a7047431c91"
      },
      "execution_count": null,
      "outputs": [
        {
          "output_type": "stream",
          "name": "stdout",
          "text": [
            "Best number of estimators: 50\n",
            "Accuracy (train): 0.67\n",
            "Accuracy (test): 0.59\n",
            "Precision (train): 0.93\n",
            "Precision (test): 0.90\n",
            "Recall (train): 0.68\n",
            "Recall (test): 0.61\n"
          ]
        }
      ]
    },
    {
      "cell_type": "code",
      "source": [
        "import collections\n",
        "collections.Counter(yhat_test)"
      ],
      "metadata": {
        "colab": {
          "base_uri": "https://localhost:8080/"
        },
        "id": "jTKgOP-6QwgI",
        "outputId": "79523368-1e77-47fd-a1b3-f7ef8a4d2d15"
      },
      "execution_count": null,
      "outputs": [
        {
          "output_type": "execute_result",
          "data": {
            "text/plain": [
              "Counter({1.0: 354, 0.0: 42})"
            ]
          },
          "metadata": {},
          "execution_count": 30
        }
      ]
    },
    {
      "cell_type": "markdown",
      "source": [
        "Overall, our best model, on the basis of testing accuracy, came from the random forest with 100 estimators and no max depth set. This model achieved 64% accuracy which is only slightly higher than \"guess petitioner wins every time\" baseline. In our next portion, we will begin more complex models through the use of various neural networks. "
      ],
      "metadata": {
        "id": "AVycWHvl9-2Q"
      }
    },
    {
      "cell_type": "code",
      "source": [],
      "metadata": {
        "id": "8QkYlcxvmeYR"
      },
      "execution_count": null,
      "outputs": []
    }
  ]
}